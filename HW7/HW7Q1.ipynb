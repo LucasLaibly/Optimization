{
 "cells": [
  {
   "cell_type": "markdown",
   "metadata": {},
   "source": [
    "# Question One"
   ]
  },
  {
   "cell_type": "markdown",
   "metadata": {},
   "source": [
    "### Part I:\n",
    "\n",
    "###### A key note is that the flow of the fluid depends on the flow velocity and the area of the cross section, so it can be expressed as follows:\n",
    "    \n",
    "\n",
    "$\\alpha_4 T r^2 * \\pi r^2 = \\alpha_4 \\pi T r^4$\n",
    "\n",
    "###### Here we have taken into consideration the area of a circle as well, to represent the area of a cross section.\n",
    "\n",
    "###### Writing our problem set geometrically would look like:\n",
    "\n",
    "\n",
    "$\\max_{T,r,w} \\alpha_4 \\pi T r^4 \\\\\\ T_{min} \\leq T \\leq T_{max} \\\\  r_{min} \\leq r \\leq r_{max} \\\\  w_{min} \\leq w \\leq w_{max} \\\\  w \\leq 0.1r \\\\  \\alpha_1 \\frac{Tr}{w} + \\alpha_2 r + \\alpha_3 rw \\leq C_{max} $\n",
    "\n",
    "###### We want to begin by taking the log of both sides of each equation in our system. \n",
    "\n",
    "\n",
    "$ -\\alpha_4 \\pi\\ \\min_{x,y,z} -(x + 4y) \\\\ \\log{T_{min}} - x \\leq 0 \\quad x - \\log{T_{max}} \\leq 0 \\\\ \\log{r_{min}} - y \\leq 0 \\quad y - \\log{r_{max}} \\leq 0 \\\\ \\log{w_{min}} - z \\leq 0 \\quad z - \\log{w_{max}} \\leq 0 \\\\  \\log10 +z - y \\leq 0 \\\\  \\log{(e^{\\log{\\frac{\\alpha_1}{C_{max}}} +x +y -z} + e^{\\log{\\frac{\\alpha_2}{C_{max}}} + y} + e^{\\log{\\frac{\\alpha_3}{C_{max}}} +y +z})} \\leq 0 $\n",
    "\n",
    "\n",
    "\n",
    "###### Let $x=\\log T$, $y=\\log r$ and $z=\\log w$, our problem becomes:\n",
    "\n",
    "\n",
    "\n",
    "$ -\\alpha_4 \\pi\\ \\min_{x,y,z} -(x + 4y) \\\\ \\log{T_{min}} - x \\leq 0 \\quad x - \\log{T_{max}} \\leq 0 \\\\ \\log{r_{min}} - y \\leq 0 \\quad y - \\log{r_{max}} \\leq 0 \\\\ \\log{w_{min}} - z \\leq 0 \\quad z - \\log{w_{max}} \\leq 0 \\\\ \\log10 +z - y \\leq 0 \\\\  \\log{(e^{\\log{\\frac{\\alpha_1}{C_{max}}} +x +y -z} + e^{\\log{\\frac{\\alpha_2}{C_{max}}} + y} + e^{\\log{\\frac{\\alpha_3}{C_{max}}} +y +z})} \\leq 0 $\n",
    "\n",
    "###### At this point, we have now converted our problem from geometric to convex"
   ]
  },
  {
   "cell_type": "markdown",
   "metadata": {},
   "source": [
    "#### Part II:\n",
    "Assume that each variable has a lower bound 0 and no upper bound and let $C_{max}=500$ and $\\alpha_1 = \\alpha_2 = \\alpha_3 = \\alpha_4 = 1$, we will have:"
   ]
  },
  {
   "cell_type": "code",
   "execution_count": 10,
   "metadata": {},
   "outputs": [
    {
     "name": "stdout",
     "output_type": "stream",
     "text": [
      "Optimal\n",
      "\n",
      "a: -1.3862943630419222\n",
      "b: 5.521460927716193\n",
      "c: -0.6931471818412257\n",
      "\n",
      "T: 0.2499999995194921\n",
      "r: 250.00000246348665\n",
      "w: 0.4999999993593598\n",
      "\n",
      "Heat:65.02955216373965\n",
      "\n",
      "Total Cost: 500.0000046867193\n"
     ]
    }
   ],
   "source": [
    "using JuMP,Ipopt\n",
    "\n",
    "m = Model(solver = IpoptSolver(print_level=0))\n",
    "\n",
    "# DEFINE OUR 3 ALPHA VARIABLES\n",
    "@variable(m, a) # alpha 1\n",
    "@variable(m, b) # alpha 2\n",
    "@variable(m, c) # alpha 3\n",
    "@variable(m, d <= 1) # alpha 4\n",
    "\n",
    "@constraint(m, log(10) + c - b <= 0)\n",
    "\n",
    "# we set our Cmax to 500, as well as our alphas\n",
    "@NLconstraint(m, exp(-log(500) + a + b -c) + exp(-log(500) + b) + exp(-log(500) + b + c) <= 1)\n",
    "\n",
    "@objective(m, Min, -(a + 4b))\n",
    "\n",
    "solve(m)\n",
    "\n",
    "status = solve(m)\n",
    "println(status)\n",
    "println()\n",
    "\n",
    "a = getvalue(a)\n",
    "b = getvalue(b)\n",
    "c = getvalue(c)\n",
    "\n",
    "println(\"a: \", a)\n",
    "println(\"b: \", b)\n",
    "println(\"c: \", c)\n",
    "\n",
    "println()\n",
    "\n",
    "T = exp(a)\n",
    "r = exp(b)\n",
    "w = exp(c)\n",
    "\n",
    "println(\"T: \", T)\n",
    "println(\"r: \", r)\n",
    "println(\"w: \", w)\n",
    "println()\n",
    "\n",
    "# we can disregard a4 because it is set to 1\n",
    "println(\"Heat:\", -pi*getobjectivevalue(m))\n",
    "println()\n",
    "println(\"Total Cost: \", T*r/w + r + r*w) # heat loss + cost of pipe w/ fixed thickness + cost of insulation\n"
   ]
  },
  {
   "cell_type": "code",
   "execution_count": null,
   "metadata": {},
   "outputs": [],
   "source": []
  }
 ],
 "metadata": {
  "kernelspec": {
   "display_name": "Julia 1.0.3",
   "language": "julia",
   "name": "julia-1.0"
  },
  "language_info": {
   "file_extension": ".jl",
   "mimetype": "application/julia",
   "name": "julia",
   "version": "1.0.3"
  }
 },
 "nbformat": 4,
 "nbformat_minor": 2
}
