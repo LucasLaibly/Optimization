{
 "cells": [
  {
   "cell_type": "markdown",
   "metadata": {},
   "source": [
    "# Question Four\n",
    "##### ABC Investments"
   ]
  },
  {
   "cell_type": "code",
   "execution_count": 17,
   "metadata": {},
   "outputs": [
    {
     "name": "stdout",
     "output_type": "stream",
     "text": [
      "Academic license - for non-commercial use only\n",
      "Optimal\n",
      "x= [0.0, 0.0, 1.0, 1.0, 1.0, 1.0]\n",
      "y= [0.0, 0.0, 35.0, 5.0, 22.5, 17.5]\n",
      "objective = 13.5\n"
     ]
    }
   ],
   "source": [
    "using JuMP, Gurobi\n",
    "\n",
    "# all in millions\n",
    "minInvestment = [3 2 9 5 12 4]\n",
    "maxInvestment = [27 12 35 15 46 18]\n",
    "\n",
    "# percent return\n",
    "expectedRtn = [0.13 0.09 0.17 0.1 0.22 0.12]\n",
    "\n",
    "# total amount = 80 million\n",
    "totalInvestment = 80\n",
    "\n",
    "n = length(expectedRtn)\n",
    "\n",
    "m = Model(solver = GurobiSolver(OutputFlag = false))\n",
    "\n",
    "# binary selections\n",
    "@variable(m, x[1:n], Bin)\n",
    "@variable(m, y[1:n] >= 0)\n",
    "\n",
    "@constraint(m, y .<= totalInvestment * x)\n",
    "@constraint(m, sum{y[i] , i=1:n} <= totalInvestment)\n",
    "\n",
    "for i=1:n\n",
    "    @constraint(m, minInvestment[i] * x[i] <= y[i])\n",
    "    @constraint(m, y[i] * x[i] <= maxInvestment[i])\n",
    "end\n",
    "\n",
    "# cannot invest more than the sum of 2, 4, and 6 into 5. \n",
    "@constraint(m, y[5] <= y[2] + y[4] + y[6])\n",
    "\n",
    "# ensure that the amount invsted into 3 is the same as 6; i.e. 1 invest to 3, we must 1 invest to 6\n",
    "@constraint(m, x[3] <= x[6])\n",
    "\n",
    "@objective(m, Max, sum{y[i] * expectedRtn[i], i=1:n})\n",
    "\n",
    "status = solve(m)\n",
    "println(status)\n",
    "println(\"x= \", getvalue(x))\n",
    "println(\"y= \", getvalue(y))\n",
    "println(\"objective = \", getobjectivevalue(m))"
   ]
  },
  {
   "cell_type": "markdown",
   "metadata": {},
   "source": [
    "For the highest return profit, we should look to invest 35 million into Option 3, 5 million into option 4, 22.5 million into option 5, and 17.5 million into option 6."
   ]
  },
  {
   "cell_type": "code",
   "execution_count": null,
   "metadata": {},
   "outputs": [],
   "source": []
  }
 ],
 "metadata": {
  "kernelspec": {
   "display_name": "Julia 1.0.3",
   "language": "julia",
   "name": "julia-1.0"
  },
  "language_info": {
   "file_extension": ".jl",
   "mimetype": "application/julia",
   "name": "julia",
   "version": "1.0.3"
  }
 },
 "nbformat": 4,
 "nbformat_minor": 2
}
