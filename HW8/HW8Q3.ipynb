{
 "cells": [
  {
   "cell_type": "markdown",
   "metadata": {},
   "source": [
    "# Question Three \n",
    "##### Comquat Computers"
   ]
  },
  {
   "cell_type": "code",
   "execution_count": 19,
   "metadata": {},
   "outputs": [
    {
     "name": "stdout",
     "output_type": "stream",
     "text": [
      "Optimal\n",
      "x = [1.0, 1.0, 0.0, 1.0]\n",
      "y = [10000.0, 8000.0, 0.0, 2000.0]\n",
      "objective = 2.56e7\n"
     ]
    }
   ],
   "source": [
    "using JuMP, Cbc\n",
    "\n",
    "m = Model(solver=CbcSolver())\n",
    "\n",
    "totalPC = 20000\n",
    "pricePerUnit = 3500\n",
    "\n",
    "productionCap = [10000 8000 9000 6000]\n",
    "plantCost = [9000000 5000000 3000000 1000000]\n",
    "pricePC = [1000 1700 2300 2900]\n",
    "\n",
    "n = length(productionCap)\n",
    "\n",
    "# set a binary indicator to mark which we want\n",
    "@variable(m, x[1:4], Bin)\n",
    "\n",
    "# no decimal values\n",
    "@variable(m, y[1:4] >= 0, Int)\n",
    "\n",
    "# consider totalPC cost\n",
    "@constraint(m, y .<= totalPC*x)\n",
    "\n",
    "for i=1:n\n",
    "    @constraint(m, y[i]<= productionCap[i])\n",
    "end\n",
    "\n",
    "@constraint(m, sum{y[i], i=1:n} <= totalPC)\n",
    "\n",
    "@objective(m, Max, sum{y[i] * (pricePerUnit - pricePC[i]) - x[i] * plantCost[i], i = 1:n})\n",
    "\n",
    "status = solve(m)\n",
    "\n",
    "println(status)\n",
    "println(\"x = \", getvalue(x))\n",
    "println(\"y = \", getvalue(y))\n",
    "println(\"objective = \", getobjectivevalue(m))"
   ]
  },
  {
   "cell_type": "markdown",
   "metadata": {},
   "source": [
    "To make the absolute most money, Comquat Computers should make 10,000 computers from Plant 1, 8,000 computers from Plant 2, and 2,000 computers from Plant 4. "
   ]
  },
  {
   "cell_type": "code",
   "execution_count": null,
   "metadata": {},
   "outputs": [],
   "source": []
  }
 ],
 "metadata": {
  "kernelspec": {
   "display_name": "Julia 1.0.3",
   "language": "julia",
   "name": "julia-1.0"
  },
  "language_info": {
   "file_extension": ".jl",
   "mimetype": "application/julia",
   "name": "julia",
   "version": "1.0.3"
  }
 },
 "nbformat": 4,
 "nbformat_minor": 2
}
