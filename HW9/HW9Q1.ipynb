{
 "cells": [
  {
   "cell_type": "markdown",
   "metadata": {},
   "source": [
    "# Question One\n",
    "##### Voting"
   ]
  },
  {
   "cell_type": "code",
   "execution_count": 4,
   "metadata": {},
   "outputs": [
    {
     "name": "stdout",
     "output_type": "stream",
     "text": [
      "Optimal\n",
      "\n",
      "\n",
      "\n",
      "\n",
      "\n"
     ]
    }
   ],
   "source": [
    "using JuMP, Cbc\n",
    "polls = [[80 34];\n",
    "        [60 44];\n",
    "        [40 44];\n",
    "        [20 24];\n",
    "        [40 114];\n",
    "        [40 64];\n",
    "        [70 14];\n",
    "        [50 44];\n",
    "        [70 54];\n",
    "        [70 64]]\n",
    "m = Model(solver = CbcSolver())\n",
    "\n",
    "@variable(m, x[1:10, 1:5], Bin)\n",
    "@variable(m, y[1:5], Bin)\n",
    "\n",
    "for i in 1:10\n",
    "    @constraint(m, sum(x[1,:]) == 1)\n",
    "end\n",
    "\n",
    "# be between 150 and 250\n",
    "for k in 1:5\n",
    "    @constraint(m, 150 <= sum{(polls[i,1] .+ polls[i, 2]) * x[i,k], i=1:10} <= 250)\n",
    "end\n",
    "\n",
    "# all or none\n",
    "for k in 1:5\n",
    "    @constraint(m, sum{(polls[i,2] - polls[i, 1]) * x[i,k], i=1:10} >= -250*(1-y[k]))\n",
    "end\n",
    "\n",
    "@objective(m, Max, sum(y))\n",
    "status = solve(m)\n",
    "println(status)\n",
    "println()\n",
    "println()\n",
    "println()\n",
    "println()\n",
    "println()\n"
   ]
  },
  {
   "cell_type": "code",
   "execution_count": 3,
   "metadata": {},
   "outputs": [
    {
     "name": "stdout",
     "output_type": "stream",
     "text": [
      "District 1\n",
      "Democratic Majority\n",
      "Zone Contains: \n",
      "City: 5\n",
      " \n",
      "District 2\n",
      "Republican Majority\n",
      "Zone Contains: \n",
      "City: 1\n",
      "City: 6\n",
      " \n",
      "District 3\n",
      "Democratic Majority\n",
      "Zone Contains: \n",
      "City: 6\n",
      "City: 10\n",
      " \n",
      "District 4\n",
      "Democratic Majority\n",
      "Zone Contains: \n",
      "City: 2\n",
      "City: 6\n",
      " \n",
      "District 5\n",
      "Democratic Majority\n",
      "Zone Contains: \n",
      "City: 2\n",
      "City: 6\n",
      " \n",
      "Objective: 4.0\n"
     ]
    }
   ],
   "source": [
    "\n",
    "for j in 1:5\n",
    "    \n",
    "    println(\"District \", j)\n",
    "    if(getvalue(y[j]) == 1)\n",
    "        println(\"Democratic Majority\")\n",
    "    else\n",
    "        println(\"Republican Majority\")\n",
    "    end\n",
    "    \n",
    "    println(\"Zone Contains: \")\n",
    "    \n",
    "    for i in 1:10\n",
    "        if(getvalue(x[i,j]) >= 0.99)\n",
    "            println(\"City: \", i)\n",
    "        end      \n",
    "    end\n",
    "    println(\" \")\n",
    "end\n",
    "\n",
    "println(\"Objective: \", getobjectivevalue(m))"
   ]
  },
  {
   "cell_type": "code",
   "execution_count": null,
   "metadata": {},
   "outputs": [],
   "source": []
  }
 ],
 "metadata": {
  "kernelspec": {
   "display_name": "Julia 1.0.3",
   "language": "julia",
   "name": "julia-1.0"
  },
  "language_info": {
   "file_extension": ".jl",
   "mimetype": "application/julia",
   "name": "julia",
   "version": "1.0.3"
  }
 },
 "nbformat": 4,
 "nbformat_minor": 2
}
