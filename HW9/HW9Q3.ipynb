{
 "cells": [
  {
   "cell_type": "markdown",
   "metadata": {},
   "source": [
    "# Question Three"
   ]
  },
  {
   "cell_type": "code",
   "execution_count": 2,
   "metadata": {},
   "outputs": [
    {
     "name": "stdout",
     "output_type": "stream",
     "text": [
      "Optimal\n",
      "Time to complete race: 402.69999999999993 seconds\n"
     ]
    },
    {
     "data": {
      "text/plain": [
       "5×5 Named Array{Float64,2}\n",
       "runner ╲ fraction │   1    2    3    4    5\n",
       "──────────────────┼────────────────────────\n",
       ":Alice            │ 0.0  0.0  1.0  0.0  0.0\n",
       ":Bob              │ 0.0  0.0  0.0  0.0  1.0\n",
       ":Cindy            │ 0.0  0.0  0.0  1.0  0.0\n",
       ":David            │ 0.0  1.0  0.0  0.0  0.0\n",
       ":Elisa            │ 1.0  0.0  0.0  0.0  0.0"
      ]
     },
     "execution_count": 2,
     "metadata": {},
     "output_type": "execute_result"
    }
   ],
   "source": [
    "using JuMP, Cbc, NamedArrays\n",
    "\n",
    "# names are assigned by location in chart, Alica : 1, Bob : 2, etc.\n",
    "name = [1,2,3,4,5]\n",
    "fraction = [1,2,3,4,5]\n",
    "\n",
    "times = [82.5, 77.1, 81.3, 74.9, 80.6]\n",
    "handOff = [0 1.1 1.3 1.9 2.1\n",
    "1.2 0 1.7 1.0 1.8\n",
    "1.7 1.4 0 0.9 1.7\n",
    "2.1 0.8 1.6 0 2.4\n",
    "1.5 1.2 1.9 2.3 0]\n",
    "\n",
    "totalTime = handOff .+ times\n",
    "\n",
    "m = Model(solver = CbcSolver())\n",
    "@variable(m, x[name, fraction], Bin)\n",
    "\n",
    "@constraint(m, con[i in name], x[i,i] == 0)\n",
    "@constraint(m, runner[i in name], sum(x[i,j] for j in fraction) == 1)\n",
    "@constraint(m, frac[j in fraction], sum(x[i, j] for i in name) == 1)\n",
    "\n",
    "@objective(m, Min, sum(x[i,j] * totalTime[i,j] for i in name, j in fraction))\n",
    "\n",
    "status = solve(m)\n",
    "\n",
    "println(status)\n",
    "\n",
    "println(\"Time to complete race: \", getobjectivevalue(m), \" seconds\")\n",
    "\n",
    "result = zeros(5,5);\n",
    "\n",
    "for i in name\n",
    "    for j in fraction\n",
    "        result[i,j] = getvalue(x[i,j])\n",
    "    end\n",
    "end\n",
    "\n",
    "# print(result)\n",
    "\n",
    "runners = [:Alice, :Bob, :Cindy, :David, :Elisa]\n",
    "solution = NamedArray(result, (runners, fraction), (\"runner\", \"fraction\"))\n",
    "\n",
    "\n",
    "\n"
   ]
  },
  {
   "cell_type": "code",
   "execution_count": null,
   "metadata": {},
   "outputs": [],
   "source": []
  }
 ],
 "metadata": {
  "kernelspec": {
   "display_name": "Julia 1.0.3",
   "language": "julia",
   "name": "julia-1.0"
  },
  "language_info": {
   "file_extension": ".jl",
   "mimetype": "application/julia",
   "name": "julia",
   "version": "1.0.3"
  }
 },
 "nbformat": 4,
 "nbformat_minor": 2
}
