{
 "cells": [
  {
   "cell_type": "markdown",
   "metadata": {},
   "source": [
    "# Question Two\n",
    "##### The Queen's Problem\n"
   ]
  },
  {
   "cell_type": "markdown",
   "metadata": {},
   "source": [
    "# a)"
   ]
  },
  {
   "cell_type": "code",
   "execution_count": 25,
   "metadata": {},
   "outputs": [
    {
     "name": "stdout",
     "output_type": "stream",
     "text": [
      "Optimal\n",
      "Number of Queen's: 8.0\n",
      "[0.0 0.0 0.0 1.0 0.0 0.0 0.0 0.0; 0.0 0.0 0.0 0.0 0.0 0.0 0.0 1.0; 1.0 0.0 0.0 0.0 0.0 0.0 0.0 0.0; 0.0 0.0 0.0 0.0 1.0 0.0 0.0 0.0; 0.0 0.0 0.0 0.0 0.0 0.0 1.0 0.0; 0.0 1.0 0.0 0.0 0.0 0.0 0.0 0.0; 0.0 0.0 0.0 0.0 0.0 1.0 0.0 0.0; 0.0 0.0 1.0 0.0 0.0 0.0 0.0 0.0]"
     ]
    }
   ],
   "source": [
    "using Cbc, JuMP\n",
    "\n",
    "m = Model(solver=CbcSolver())\n",
    "\n",
    "@variable(m, x[1:8, 1:8], Bin)\n",
    "\n",
    "for i in 1:8\n",
    "    @constraint(m, sum{x[i,j], j = 1:8} == 1)\n",
    "    @constraint(m, sum{x[j,i], j = 1:8} == 1)\n",
    "end\n",
    "\n",
    "for diag_sum in 2:16\n",
    "    if (diag_sum <= 9)\n",
    "        @constraint(m, sum{x[i,diag_sum-i], i = 1:(diag_sum-1)} <= 1)\n",
    "    else\n",
    "        @constraint(m, sum{x[i,diag_sum-i], i = (diag_sum-8):8} <= 1)\n",
    "    end\n",
    "end\n",
    "\n",
    "for diag_diff in -7:7\n",
    "    if (diag_diff >= 0)\n",
    "        @constraint(m, sum{x[i,diag_diff+i], i = 1:(8-abs(diag_diff))} <= 1)\n",
    "    else\n",
    "        @constraint(m, sum{x[i,diag_diff+i], i = (-diag_diff+1):8} <= 1)\n",
    "    end\n",
    "end\n",
    "\n",
    "@objective(m, Min, sum(x))\n",
    "\n",
    "status = solve(m)\n",
    "println(status)\n",
    "println(\"Number of Queen's: \", getobjectivevalue(m))\n",
    "board = getvalue(x)\n",
    "print(board)"
   ]
  },
  {
   "cell_type": "markdown",
   "metadata": {},
   "source": [
    "Apologies for the jumbled mess above, I couldn't get it to print nicely. Here is what the above makes: \n",
    "\\begin{equation*}\n",
    "\\mathbf{Board} = \\begin{bmatrix}\n",
    "\\ 0 & 0 & 0 & 1 & 0 & 0 & 0 & 0\\\\\n",
    "\\ 0 & 0 & 0 & 0 & 0 & 0 & 0 & 1\\\\\n",
    "\\ 1 & 0 & 0 & 0 & 0 & 0 & 0 & 0\\\\\n",
    "\\ 0 & 0 & 0 & 0 & 1 & 0 & 0 & 0\\\\\n",
    "\\ 0 & 0 & 0 & 0 & 0 & 0 & 1 & 0\\\\\n",
    "\\ 0 & 1 & 0 & 0 & 0 & 0 & 0 & 0\\\\\n",
    "\\ 0 & 0 & 0 & 0 & 0 & 1 & 0 & 0\\\\\n",
    "\\ 0 & 0 & 1 & 0 & 0 & 0 & 0 & 0\\\\\n",
    "\\end{bmatrix}\n",
    "\\end{equation*}"
   ]
  },
  {
   "cell_type": "markdown",
   "metadata": {},
   "source": [
    "# b)"
   ]
  },
  {
   "cell_type": "code",
   "execution_count": 26,
   "metadata": {},
   "outputs": [
    {
     "name": "stdout",
     "output_type": "stream",
     "text": [
      "Optimal\n",
      "Number of Queen's: 8.0\n",
      "[0.0 0.0 0.0 0.0 1.0 0.0 0.0 0.0; 0.0 0.0 1.0 0.0 0.0 0.0 0.0 0.0; 1.0 0.0 0.0 0.0 0.0 0.0 0.0 0.0; 0.0 0.0 0.0 0.0 0.0 0.0 1.0 0.0; 0.0 1.0 0.0 0.0 0.0 0.0 0.0 0.0; 0.0 0.0 0.0 0.0 0.0 0.0 0.0 1.0; 0.0 0.0 0.0 0.0 0.0 1.0 0.0 0.0; 0.0 0.0 0.0 1.0 0.0 0.0 0.0 0.0]"
     ]
    }
   ],
   "source": [
    "using Cbc, JuMP\n",
    "\n",
    "m = Model(solver=CbcSolver())\n",
    "\n",
    "@variable(m, x[1:8, 1:8], Bin)\n",
    "\n",
    "for i in 1:8\n",
    "    @constraint(m, sum{x[i,j], j = 1:8} == 1)\n",
    "    @constraint(m, sum{x[j,i], j = 1:8} == 1)\n",
    "end\n",
    "\n",
    "for diag_sum in 2:16\n",
    "    if (diag_sum <= 9)\n",
    "        @constraint(m, sum{x[i,diag_sum-i], i = 1:(diag_sum-1)} <= 1)\n",
    "    else\n",
    "        @constraint(m, sum{x[i,diag_sum-i], i = (diag_sum-8):8} <= 1)\n",
    "    end\n",
    "end\n",
    "\n",
    "for diag_diff in -7:7\n",
    "    if (diag_diff >= 0)\n",
    "        @constraint(m, sum{x[i,diag_diff+i], i = 1:(8-abs(diag_diff))} <= 1)\n",
    "    else\n",
    "        @constraint(m, sum{x[i,diag_diff+i], i = (-diag_diff+1):8} <= 1)\n",
    "    end\n",
    "end\n",
    "\n",
    "# point symmetry\n",
    "for i in 1:8\n",
    "    for j in 1:8\n",
    "        @constraint(m, x[i,j] == x[9-i,9-j])\n",
    "    end\n",
    "end\n",
    "\n",
    "@objective(m, Min, sum(x))\n",
    "\n",
    "status = solve(m)\n",
    "println(status)\n",
    "println(\"Number of Queen's: \", getobjectivevalue(m))\n",
    "board = getvalue(x)\n",
    "print(board)"
   ]
  },
  {
   "cell_type": "markdown",
   "metadata": {},
   "source": [
    "Apologies for the jumbled mess above, I couldn't get it to print nicely. Here is what the above makes: \n",
    "\\begin{equation*}\n",
    "\\mathbf{Board} = \\begin{bmatrix}\n",
    "\\ 0 & 0 & 0 & 0 & 1 & 0 & 0 & 0\\\\\n",
    "\\ 0 & 0 & 1 & 0 & 0 & 0 & 0 & 0\\\\\n",
    "\\ 1 & 0 & 0 & 0 & 0 & 0 & 0 & 0\\\\\n",
    "\\ 0 & 0 & 0 & 0 & 0 & 0 & 1 & 0\\\\\n",
    "\\ 0 & 1 & 0 & 0 & 0 & 0 & 0 & 0\\\\\n",
    "\\ 0 & 0 & 0 & 0 & 0 & 0 & 0 & 1\\\\\n",
    "\\ 0 & 0 & 0 & 0 & 0 & 1 & 0 & 0\\\\\n",
    "\\ 0 & 0 & 0 & 1 & 0 & 0 & 0 & 0\\\\\n",
    "\\end{bmatrix}\n",
    "\\end{equation*}"
   ]
  },
  {
   "cell_type": "markdown",
   "metadata": {},
   "source": [
    "# c)"
   ]
  },
  {
   "cell_type": "code",
   "execution_count": 27,
   "metadata": {},
   "outputs": [
    {
     "name": "stdout",
     "output_type": "stream",
     "text": [
      "Optimal\n",
      "Number of Queen's: 5.0\n",
      "[0.0 0.0 0.0 0.0 1.0 0.0 0.0 0.0; 0.0 0.0 0.0 0.0 0.0 0.0 0.0 0.0; 0.0 0.0 0.0 1.0 0.0 0.0 0.0 0.0; 0.0 0.0 1.0 0.0 0.0 0.0 0.0 0.0; 0.0 0.0 0.0 0.0 0.0 0.0 1.0 0.0; 0.0 0.0 0.0 0.0 0.0 0.0 0.0 0.0; 0.0 0.0 0.0 0.0 0.0 0.0 0.0 0.0; 0.0 1.0 0.0 0.0 0.0 0.0 0.0 0.0]"
     ]
    }
   ],
   "source": [
    "using Cbc, JuMP\n",
    "\n",
    "m = Model(solver=CbcSolver())\n",
    "\n",
    "@variable(m, x[1:8, 1:8], Bin)\n",
    "\n",
    "for i in 1:8\n",
    "    for j in 1:8\n",
    "        @constraint(m, sum{x[i,k], k=1:8} + sum{x[k,j],k=1:8} \n",
    "            +sum{x[k, (i+j)-k], k = max(1,(i+j)-8):min(8,(i+j)-1)}\n",
    "            +sum{x[k, (j-i)+k], k = max(1,-(j-i)+1):min(8,8-(j-i))} >= 1)\n",
    "    end\n",
    "end\n",
    "\n",
    "@objective(m, Min, sum(x))\n",
    "\n",
    "status = solve(m)\n",
    "println(status)\n",
    "println(\"Number of Queen's: \", getobjectivevalue(m))\n",
    "board = getvalue(x)\n",
    "print(board)"
   ]
  },
  {
   "cell_type": "markdown",
   "metadata": {},
   "source": [
    "Apologies for the jumbled mess above, I couldn't get it to print nicely. Here is what the above makes: \n",
    "\\begin{equation*}\n",
    "\\mathbf{Board} = \\begin{bmatrix}\n",
    "\\ 0 & 0 & 0 & 0 & 1 & 0 & 0 & 0\\\\\n",
    "\\ 0 & 0 & 0 & 0 & 0 & 0 & 0 & 0\\\\\n",
    "\\ 0 & 0 & 0 & 1 & 0 & 0 & 0 & 0\\\\\n",
    "\\ 0 & 0 & 1 & 0 & 0 & 0 & 0 & 0\\\\\n",
    "\\ 0 & 0 & 0 & 0 & 0 & 0 & 1 & 0\\\\\n",
    "\\ 0 & 0 & 0 & 0 & 0 & 0 & 0 & 0\\\\\n",
    "\\ 0 & 0 & 0 & 0 & 0 & 0 & 0 & 0\\\\\n",
    "\\ 0 & 1 & 0 & 0 & 0 & 0 & 0 & 0\\\\\n",
    "\\end{bmatrix}\n",
    "\\end{equation*}"
   ]
  },
  {
   "cell_type": "markdown",
   "metadata": {},
   "source": [
    "# d)"
   ]
  },
  {
   "cell_type": "code",
   "execution_count": 28,
   "metadata": {},
   "outputs": [
    {
     "name": "stdout",
     "output_type": "stream",
     "text": [
      "Optimal\n",
      "Number of Queen's: 6.0\n",
      "[0.0 0.0 0.0 0.0 0.0 0.0 1.0 0.0; 1.0 0.0 1.0 0.0 0.0 0.0 0.0 0.0; 0.0 0.0 0.0 0.0 0.0 0.0 0.0 0.0; 0.0 0.0 0.0 0.0 0.0 0.0 0.0 0.0; 0.0 0.0 0.0 0.0 0.0 0.0 0.0 0.0; 0.0 0.0 0.0 0.0 0.0 0.0 0.0 0.0; 0.0 0.0 0.0 0.0 0.0 1.0 0.0 1.0; 0.0 1.0 0.0 0.0 0.0 0.0 0.0 0.0]"
     ]
    }
   ],
   "source": [
    "using Cbc, JuMP\n",
    "\n",
    "m = Model(solver=CbcSolver())\n",
    "\n",
    "@variable(m, x[1:8, 1:8], Bin)\n",
    "\n",
    "for i in 1:8\n",
    "    for j in 1:8\n",
    "        @constraint(m, sum{x[i,k], k=1:8} + sum{x[k,j],k=1:8} \n",
    "            +sum{x[k, (i+j)-k], k = max(1,(i+j)-8):min(8,(i+j)-1)}\n",
    "            +sum{x[k, (j-i)+k], k = max(1,-(j-i)+1):min(8,8-(j-i))} >= 1)\n",
    "    end\n",
    "end\n",
    "\n",
    "#with point symmetry\n",
    "for i in 1:8\n",
    "    for j in 1:8\n",
    "        @constraint(m, x[i,j] == x[9-i,9-j])\n",
    "    end\n",
    "end\n",
    "\n",
    "@objective(m, Min, sum(x))\n",
    "\n",
    "status = solve(m)\n",
    "println(status)\n",
    "println(\"Number of Queen's: \", getobjectivevalue(m))\n",
    "board = getvalue(x)\n",
    "print(board)"
   ]
  },
  {
   "cell_type": "markdown",
   "metadata": {},
   "source": [
    "Apologies for the jumbled mess above, I couldn't get it to print nicely. Here is what the above makes: \n",
    "\\begin{equation*}\n",
    "\\mathbf{Board} = \\begin{bmatrix}\n",
    "\\ 0 & 0 & 0 & 0 & 0 & 0 & 1 & 0\\\\\n",
    "\\ 1 & 1 & 0 & 0 & 0 & 0 & 0 & 0\\\\\n",
    "\\ 0 & 0 & 0 & 0 & 0 & 0 & 0 & 0\\\\\n",
    "\\ 0 & 0 & 0 & 0 & 0 & 0 & 0 & 0\\\\\n",
    "\\ 0 & 0 & 0 & 0 & 0 & 0 & 0 & 0\\\\\n",
    "\\ 0 & 0 & 0 & 0 & 0 & 0 & 0 & 0\\\\\n",
    "\\ 0 & 0 & 0 & 0 & 0 & 0 & 1 & 1\\\\\n",
    "\\ 0 & 1 & 0 & 0 & 0 & 0 & 0 & 0\\\\\n",
    "\\end{bmatrix}\n",
    "\\end{equation*}"
   ]
  },
  {
   "cell_type": "code",
   "execution_count": null,
   "metadata": {},
   "outputs": [],
   "source": []
  }
 ],
 "metadata": {
  "kernelspec": {
   "display_name": "Julia 1.0.3",
   "language": "julia",
   "name": "julia-1.0"
  },
  "language_info": {
   "file_extension": ".jl",
   "mimetype": "application/julia",
   "name": "julia",
   "version": "1.0.3"
  }
 },
 "nbformat": 4,
 "nbformat_minor": 2
}
