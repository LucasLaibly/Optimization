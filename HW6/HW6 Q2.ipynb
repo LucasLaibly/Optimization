{
 "cells": [
  {
   "cell_type": "markdown",
   "metadata": {},
   "source": [
    "## Question 2\n",
    "\n",
    "### Part A"
   ]
  },
  {
   "cell_type": "markdown",
   "metadata": {},
   "source": [
    "Given 2$x^2$ + 2$y^2$ + 9$z^2$+ 8xy − 6xz − 6yz ≤ 1 we are asked to write the constraint in standard form $v^T$Qv ≤ 1. We define Q and v as follows:"
   ]
  },
  {
   "cell_type": "markdown",
   "metadata": {},
   "source": [
    "\\begin{equation*}\n",
    "\\mathbf{Q} = \\begin{bmatrix}\n",
    "\\ 2 & 4 & -3\\\\\n",
    "\\ 4 & 2 & -3 \\\\\n",
    "\\ -3 & -3 & 9 \\\\\n",
    "\\end{bmatrix}\n",
    "\\end{equation*}\n",
    "\n",
    "\\begin{equation*}\n",
    "\\mathbf{v} = \n",
    "\\begin{bmatrix}\n",
    "\\mathbf{X} \\\\\n",
    "\\mathbf{Y} \\\\\n",
    "\\mathbf{Z} \\\\\n",
    "\\end{bmatrix}\n",
    "\\end{equation*}\n"
   ]
  },
  {
   "cell_type": "markdown",
   "metadata": {},
   "source": [
    "### Part B"
   ]
  },
  {
   "cell_type": "code",
   "execution_count": 2,
   "metadata": {},
   "outputs": [
    {
     "name": "stdout",
     "output_type": "stream",
     "text": [
      "The eigen values for Q are: [-2.0, 3.0, 12.0]\n",
      "The eigen vectors for Q are: [0.707107 -0.57735 -0.408248; -0.707107 -0.57735 -0.408248; 0.0 -0.57735 0.816497]\n"
     ]
    }
   ],
   "source": [
    "using JuMP, LinearAlgebra\n",
    "\n",
    "# We need ot find the eigenvectors, and then the eigenvalues. All of the eigenvalues must be positive. \n",
    "# If this is not the case, then we are no longer in aconvex space.\n",
    "\n",
    "symQ = [2.0 4.0 -3.0; 4.0 2.0 -3.0; -3.0 -3.0 9.0]\n",
    "\n",
    "# we hvae our eigenvalues and eigen vectors\n",
    "\n",
    "(L, U) = eigen(symQ)\n",
    "U*Diagonal(L)*U'\n",
    "\n",
    "println(\"The eigen values for Q are: \", L)\n",
    "println(\"The eigen vectors for Q are: \", U)\n",
    "\n",
    "# This should return something equal to Q. However, it will fail because one of our eigenvalues is negative\n",
    "# U * diagm(L) * U'"
   ]
  },
  {
   "cell_type": "markdown",
   "metadata": {},
   "source": [
    "We are returned 3 eigenvalues. Now, inorder to maintain working in a convex space we need to make sure all eigenvalues are greater than zero. Except, one of our values is -2.0. Therefore, this clause is broken meaning we are not working in or with an ellipsoid. \n"
   ]
  },
  {
   "cell_type": "markdown",
   "metadata": {},
   "source": [
    "### Part C"
   ]
  },
  {
   "cell_type": "code",
   "execution_count": 3,
   "metadata": {},
   "outputs": [
    {
     "name": "stdout",
     "output_type": "stream",
     "text": [
      "Our A diagonal is: [1.1547 1.1547 -0.57735; 1.1547 1.1547 -0.57735; -0.57735 -0.57735 2.88675]\n",
      "Our B diagonal is: [0.707107 -0.707107 0.0; -0.707107 0.707107 0.0; 0.0 0.0 0.0]\n",
      "Our system: 53.0\n"
     ]
    },
    {
     "data": {
      "text/plain": [
       "52.99999999999999"
      ]
     },
     "execution_count": 3,
     "metadata": {},
     "output_type": "execute_result"
    }
   ],
   "source": [
    "using JuMP, LinearAlgebra\n",
    "\n",
    "\n",
    "A = U * Diagonal([0, sqrt.(3), sqrt.(12)]) * U'\n",
    "B = U * Diagonal([sqrt(2), 0, 0]) * U'\n",
    "\n",
    "print(\"Our A diagonal is: \", A)\n",
    "println()\n",
    "print(\"Our B diagonal is: \", B)\n",
    "\n",
    "# we just need any vector in the system\n",
    "v = [1, 2, 3]\n",
    "\n",
    "println()\n",
    "print(\"Our system: \", v'*symQ*v)\n",
    "\n",
    "println()\n",
    "\n",
    "norm(A*v)^2 - norm(B*v)^2"
   ]
  },
  {
   "cell_type": "markdown",
   "metadata": {},
   "source": [
    "### Part D"
   ]
  },
  {
   "cell_type": "code",
   "execution_count": 8,
   "metadata": {},
   "outputs": [
    {
     "data": {
      "text/plain": [
       "3-element Array{Float64,1}:\n",
       "  1.0                   \n",
       " -8.326672684688674e-17 \n",
       "  1.1102230246251565e-16"
      ]
     },
     "execution_count": 8,
     "metadata": {},
     "output_type": "execute_result"
    }
   ],
   "source": [
    "v = U[1,:]\n",
    "U*v"
   ]
  },
  {
   "cell_type": "markdown",
   "metadata": {},
   "source": [
    "We begin by evaluating our system which looks v(U*λ*$U^T$)$v^T$. In this unbounded space, we make a cylinder that streches to infinity in both directions. \n",
    "\n",
    "\\begin{equation*}\n",
    "\\mathbf{U^T \\times v} = \\begin{bmatrix}\n",
    "\\mathbf{v_1^T} \\\\\n",
    "\\mathbf{v_2^T} \\\\\n",
    "\\mathbf{v_3^T} \\\\\n",
    "\\end{bmatrix}\n",
    "\\times\n",
    "\\begin{bmatrix}\n",
    "\\mathbf{|} \\\\\n",
    "\\mathbf{X} \\\\\n",
    "\\mathbf{|} \\\\\n",
    "\\end{bmatrix}\n",
    "\\end{equation*}\n",
    "\n",
    "\n",
    "However, at the very end of said cylinder it blows open and expands outwards. We are asked to evaluate the directional vector of this space and state which it is. So we know that everything orthagonal is going to 0 and everything else will be 1. We can see in the calculations at the top of the question we are aware that two values will be 0, and only one will be 1.\n",
    "\n",
    "\n",
    "\\begin{equation*}\n",
    "\\begin{bmatrix}\n",
    "\\mathbf{v_1^T \\times v_1} \\\\\n",
    "\\mathbf{v_2^T \\times v_1} \\\\\n",
    "\\mathbf{v_3^T \\times v_1} \\\\\n",
    "\\end{bmatrix}\n",
    "\\ =\n",
    "\\begin{bmatrix}\n",
    "\\mathbf{1} \\\\\n",
    "\\mathbf{0} \\\\\n",
    "\\mathbf{0} \\\\\n",
    "\\end{bmatrix}\n",
    "\\end{equation*}\n",
    "\n",
    "\n",
    "This is precisely what we acheive in these calculations. And we can confirm that our ellipsoid is degenrate will under the constraint we are given. "
   ]
  }
 ],
 "metadata": {
  "kernelspec": {
   "display_name": "Julia 1.0.3",
   "language": "julia",
   "name": "julia-1.0"
  },
  "language_info": {
   "file_extension": ".jl",
   "mimetype": "application/julia",
   "name": "julia",
   "version": "1.0.3"
  }
 },
 "nbformat": 4,
 "nbformat_minor": 2
}
