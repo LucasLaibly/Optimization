{
 "cells": [
  {
   "cell_type": "markdown",
   "metadata": {},
   "source": [
    "### Question Two\n",
    "\n",
    "We are asked to solve an issue for a car rental agency. There are 10 locations, and each one has a certain number of cars on site, but also a certain number that they need. We are given a cost of moving a car from one site to another ($0.50 per mile). Now, we are to set up a linear program such that we can solve this issue. We denote each agency as \":ag1\", and so forth. \n",
    "\n",
    "The answer is as follows: "
   ]
  },
  {
   "cell_type": "code",
   "execution_count": 1,
   "metadata": {},
   "outputs": [
    {
     "name": "stdout",
     "output_type": "stream",
     "text": [
      "Optimal\n",
      "\n",
      "10×10 Named Array{Int64,2}\n",
      "demand ╲ stock │  :ag1   :ag2   :ag3   :ag4  …   :ag7   :ag8   :ag9  :ag10\n",
      "───────────────┼──────────────────────────────────────────────────────────\n",
      ":ag1           │     8      0      0      0  …      0      0      0      0\n",
      ":ag2           │     0      6      1      0         1      0      0      0\n",
      ":ag3           │     0      0      4      0         0      0      0      0\n",
      ":ag4           │     0      0      0      8         0      0      0      0\n",
      ":ag5           │     0      0      0      3         0      0      0      0\n",
      ":ag6           │     0      0      0      0         0      0      0      0\n",
      ":ag7           │     0      0      0      0        14      0      0      0\n",
      ":ag8           │     0      0      0      0         0      6      0      5\n",
      ":ag9           │     2      0      3      0         0      1      9      0\n",
      ":ag10          │     0      0      0      0  …      0      0      0      7\n",
      "\n",
      "Total cost will be $152.63901632295628\n"
     ]
    }
   ],
   "source": [
    "using JuMP, Clp, NamedArrays\n",
    "\n",
    "m = Model(solver=ClpSolver())\n",
    "\n",
    "# cost of moving\n",
    "cost = 0.50;\n",
    "\n",
    "# demand and stock of cars at each location\n",
    "demand = [10,   6,   8,  11,   9,  7,  15,   7,   9,  12];\n",
    "stock  = [ 8 , 13 ,  4  , 8  ,12  , 2 , 14 , 11 , 15 ,  7];\n",
    "\n",
    "# coordinate pair of where each location is at\n",
    "xcord  = [ 0,  20,  18,  30  ,35 , 33 ,  5 ,  5 , 11 ,  2];\n",
    "ycord  = [ 0  ,20,  10,  12  , 0  ,25 , 27,  10 ,  0  ,15];\n",
    "\n",
    "agency = [ :ag1, :ag2, :ag3, :ag4, :ag5, :ag6, :ag7, :ag8, :ag9, :ag10]\n",
    "\n",
    "\n",
    "# calculate the distance from one location to the next\n",
    "distance = zeros(10,10)\n",
    "for i = 1:10\n",
    "    for j = 1:10\n",
    "        distance[i,j] = 1.3(sqrt( (xcord[i]-(xcord[j]) )^2 + (ycord[i]-(ycord[j]) )^2 ) )\n",
    "    end\n",
    "end\n",
    "\n",
    "@variable(m, x[1:10, 1:10] >= 0)\n",
    "\n",
    "@constraint(m, sup[i in 1:10], sum(x[i,j] for j in 1:10) == stock[i] )   # supply constraint\n",
    "@constraint(m, dem[j in 1:10], sum(x[i,j] for i in 1:10) == demand[j] )   # demand constraint\n",
    "\n",
    "#objective : minimize cost of moving vehicles --> Idea here : i think we need a flow constraint (sailco)\n",
    "@objective(m, Min, 0.5*sum( x[i,j]*distance[i,j] for i in 1:10, j in 1:10 ) ) \n",
    "\n",
    "status = solve(m)\n",
    "print(status)\n",
    "println()\n",
    "println()\n",
    "\n",
    "solution = NamedArray( Int[getvalue(x[i,j]) for i in 1:10, j in 1:10], (agency,agency), (\"demand\",\"stock\") )\n",
    "println( solution )\n",
    "println()\n",
    "println(\"Total cost will be \\$\", getobjectivevalue(m))"
   ]
  },
  {
   "cell_type": "code",
   "execution_count": null,
   "metadata": {},
   "outputs": [],
   "source": []
  },
  {
   "cell_type": "code",
   "execution_count": null,
   "metadata": {},
   "outputs": [],
   "source": []
  }
 ],
 "metadata": {
  "kernelspec": {
   "display_name": "Julia 1.0.3",
   "language": "julia",
   "name": "julia-1.0"
  },
  "language_info": {
   "file_extension": ".jl",
   "mimetype": "application/julia",
   "name": "julia",
   "version": "1.0.3"
  }
 },
 "nbformat": 4,
 "nbformat_minor": 2
}
