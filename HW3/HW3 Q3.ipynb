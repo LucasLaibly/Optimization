{
 "cells": [
  {
   "cell_type": "markdown",
   "metadata": {},
   "source": [
    "### Question Three\n",
    "\n",
    "##### Part One\n",
    "\n",
    "We are asked to optimize a way of building a stadium. This is very similar to the example we did in class. We are given a list of tasks which need to be completed (some depend on previous ones). Ultimately, we are asked with finding the duration of achieving such a feat under the guidance of our given values. "
   ]
  },
  {
   "cell_type": "code",
   "execution_count": 17,
   "metadata": {},
   "outputs": [],
   "source": [
    "# this array stores the task number (1, 2, ..... 18)\n",
    "tasks = []\n",
    "for i = 1:18\n",
    "    push!(tasks, i)    # push task number into array\n",
    "end\n",
    "\n",
    "# this dictionary stores the project durations\n",
    "dur = [2, 16, 9, 8, 10, 6, 2, 2, 9, 5, 3, 2, 1, 7, 4, 3, 9, 1]\n",
    "duration = Dict(zip(tasks,dur))\n",
    "\n",
    "# this dictionary stores the projects that a given project depends on (ancestors)\n",
    "pre = ([], [:1], [:2], [:2], [:3], [:4, :5], [:4], [:6], [:4, :6], [:4], [:6], [:9], [:7], [:2], [:4, :14],\n",
    "            [:8, :11, :14], [:12], [:17])\n",
    "pred = Dict(zip(tasks,pre));"
   ]
  },
  {
   "cell_type": "code",
   "execution_count": 18,
   "metadata": {},
   "outputs": [
    {
     "name": "stdout",
     "output_type": "stream",
     "text": [
      "tstart: 1 dimensions:\n",
      "[ 1] = -0.0\n",
      "[ 2] = 2.0\n",
      "[ 3] = 18.0\n",
      "[ 4] = 18.0\n",
      "[ 5] = 27.0\n",
      "[ 6] = 37.0\n",
      "[ 7] = 26.0\n",
      "[ 8] = 43.0\n",
      "[ 9] = 43.0\n",
      "[10] = 26.0\n",
      "[11] = 43.0\n",
      "[12] = 52.0\n",
      "[13] = 28.0\n",
      "[14] = 18.0\n",
      "[15] = 26.0\n",
      "[16] = 46.0\n",
      "[17] = 54.0\n",
      "[18] = 63.0\n",
      "minimum duration: 64.0\n",
      "Optimal\n"
     ]
    }
   ],
   "source": [
    "using JuMP,Clp\n",
    "m = Model(solver=ClpSolver())\n",
    "\n",
    "@variable(m, tstart[tasks])\n",
    "\n",
    "for i in tasks\n",
    "    for j in pred[i]\n",
    "        @constraint(m, tstart[i] >= tstart[j] + duration[j])\n",
    "    end\n",
    "end\n",
    "@constraint(m, tstart[:1] == 0)\n",
    "@objective(m, Min, tstart[18] + duration[18])     # total duration is start time of last task + duration of last task.\n",
    "\n",
    "solve(m)\n",
    "println(getvalue(tstart))\n",
    "println(\"minimum duration: \", getobjectivevalue(m))\n",
    "status = solve(m)\n",
    "println(status)"
   ]
  },
  {
   "cell_type": "markdown",
   "metadata": {},
   "source": [
    "##### Part Two\n",
    "\n",
    "We are asked to optimize a way of building a stadium again, but this time we are looking to find a way to see if we can make it occur in as few weeks as possible. This is to maximize the incentive pay out ($30k/week). "
   ]
  },
  {
   "cell_type": "code",
   "execution_count": 1,
   "metadata": {},
   "outputs": [
    {
     "name": "stdout",
     "output_type": "stream",
     "text": [
      "tstart: 1 dimensions:\n",
      "[ 1] = -0.0\n",
      "[ 2] = 2.0\n",
      "[ 3] = 15.0\n",
      "[ 4] = 15.0\n",
      "[ 5] = 23.0\n",
      "[ 6] = 31.0\n",
      "[ 7] = 23.0\n",
      "[ 8] = 36.0\n",
      "[ 9] = 36.0\n",
      "[10] = 23.0\n",
      "[11] = 36.0\n",
      "[12] = 45.0\n",
      "[13] = 25.0\n",
      "[14] = 15.0\n",
      "[15] = 23.0\n",
      "[16] = 39.0\n",
      "[17] = 47.0\n",
      "[18] = 53.0\n",
      "Completed at: 54.0\n",
      "Maximum profit: 147.0\n"
     ]
    }
   ],
   "source": [
    "using JuMP, Clp\n",
    "\n",
    "m = Model(solver=ClpSolver())\n",
    "\n",
    "# this array stores the task names (1, 2, ..., 18)\n",
    "jobs = []\n",
    "for i = 1:18\n",
    "    push!(jobs, i)\n",
    "end\n",
    "\n",
    "# project durations\n",
    "dur = [2, 16, 9, 8, 10, 6, 2, 2, 9, 5, 3, 2, 1, 7, 4, 3, 9, 1]\n",
    "duration = Dict(zip(jobs,dur))\n",
    "\n",
    "# projects based on ancestors\n",
    "pre = ([], [1], [2], [2], [3], [4,5], [4], [6], [4,6], [4], [6], [9], [7], [2], [4,14], [8,11,14], [12], [17])\n",
    "pred = Dict(zip(jobs,pre));\n",
    "\n",
    "maxReduc =  [0,  3,  1,  2,  2,  1, 1, 0,  2,  1,  1, 0, 0,  2,  2, 1,  3, 0]  # max reduction (weeks)\n",
    "costReduc = [0, 30, 26, 12, 17, 15, 8, 0, 42, 21, 18, 0, 0, 22, 12, 6, 16, 0]  # cost of reduction ($1,000/week)\n",
    "bonus = 30                                                     # bonus for expediting the project ($1,000/week )\n",
    "\n",
    "# variables \n",
    "@variable(m, tstart[jobs])\n",
    "@variable(m, daysReduc[jobs] >= 0)\n",
    "@variable(m, cost[jobs] >= 0)\n",
    "\n",
    "# constraints \n",
    "for i in jobs # i is one day after j\n",
    "    for j in pred[i]\n",
    "        @constraint(m, daysReduc[j] <= maxReduc[j])\n",
    "        @constraint(m, tstart[i] >= tstart[j] + duration[j] - daysReduc[j])\n",
    "        @constraint(m, cost[j] >= daysReduc[j]*costReduc[j])\n",
    "    end\n",
    "end\n",
    "\n",
    "@constraint(m, tstart[1] == 0)\n",
    "\n",
    "# objective goal\n",
    "@objective(m, Max, bonus*(66-(tstart[18] + duration[18]))-sum(cost))\n",
    "\n",
    "solve(m)\n",
    "println(getvalue(tstart))\n",
    "println(\"Completed at: \",getvalue(tstart[18]+1))\n",
    "println(\"Maximum profit: \", getobjectivevalue(m))"
   ]
  },
  {
   "cell_type": "code",
   "execution_count": null,
   "metadata": {},
   "outputs": [],
   "source": []
  }
 ],
 "metadata": {
  "kernelspec": {
   "display_name": "Julia 1.0.3",
   "language": "julia",
   "name": "julia-1.0"
  },
  "language_info": {
   "file_extension": ".jl",
   "mimetype": "application/julia",
   "name": "julia",
   "version": "1.0.3"
  }
 },
 "nbformat": 4,
 "nbformat_minor": 2
}
