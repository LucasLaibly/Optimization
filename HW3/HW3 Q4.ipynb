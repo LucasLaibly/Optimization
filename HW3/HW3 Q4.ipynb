{
 "cells": [
  {
   "cell_type": "markdown",
   "metadata": {},
   "source": [
    "### Question Four\n",
    "\n",
    "##### Part one\n",
    "\n",
    "I am also still struggling to get PyPlots to actually work, so I apologize for that. I have plotted it again using an exterior program, and just attached as a PDF. Thank you for your understanding. "
   ]
  },
  {
   "cell_type": "markdown",
   "metadata": {},
   "source": [
    "Upper Left Hand Side Inequalities Used   \n",
    "\n",
    "$-X \\le 0$                              \n",
    "\n",
    "$Y \\le 500$\n",
    "\n",
    "$\\frac{5}{3}X - Y \\le 0$\n",
    "\n",
    "$X \\ge 0$\n",
    "\n",
    "$Y \\ge 0$\n",
    "\n",
    "Lower Right Hand Side Inequalities Used\n",
    "\n",
    "$-Y \\le 0$\n",
    "\n",
    "$-\\frac{5}{3}X + Y \\le 0$\n",
    "\n",
    "$\\frac{2}{3}X + Y \\le 700$\n",
    "\n",
    "$3X - Y \\le 1500$\n",
    "\n",
    "$X \\ge 0$\n",
    "\n",
    "$Y \\ge 0$"
   ]
  },
  {
   "cell_type": "code",
   "execution_count": 6,
   "metadata": {},
   "outputs": [
    {
     "name": "stdout",
     "output_type": "stream",
     "text": [
      "For the First Museum:\n",
      "The coordinates of the Chebyshev center: [108.452, 391.548]\n",
      "The largest possible radius: 108.45240525773497\n",
      "Optimal\n",
      "\n",
      "For the Second Museum:\n",
      "The coordinates of the Chebyshev center: [355.092, 201.05]\n",
      "The largest possible radius: 201.0495106921289\n",
      "Optimal\n"
     ]
    }
   ],
   "source": [
    "using JuMP, Clp, LinearAlgebra\n",
    "\n",
    "# Matrices A, b defining the inequalities\n",
    "A1 = [-1 0; 0 1; 5/3 -1; -1 0; 0 -1]\n",
    "B1 = [0; 500; 0; 0; 0]\n",
    "\n",
    "A2 = [0 -1; -5/3 1; -2/3 1; 3 -1; -1 0; 0 -1]\n",
    "B2 = [0;0;700;1500; 0; 0]\n",
    "\n",
    "# ---- First Location ------- #\n",
    "\n",
    "m1 = Model(solver=ClpSolver())\n",
    "@variable(m1, r1 >= 0)           # radius\n",
    "@variable(m1, x1[1:2])           # coordinates of center\n",
    "for i = 1:size(A1,1)\n",
    "    @constraint(m1, A1[i,:]'*x1 + r1*norm(A1[i,:]) <= B1[i])\n",
    "end\n",
    "@objective(m1, Max, r1)          # maximize radius\n",
    "\n",
    "status1 = solve(m1)\n",
    "center1 = getvalue(x1)\n",
    "radius1 = getvalue(r1)\n",
    "\n",
    "println(\"For the First Museum:\")\n",
    "println(\"The coordinates of the Chebyshev center: \", center1)\n",
    "println(\"The largest possible radius: \", radius1)\n",
    "println(status1)\n",
    "\n",
    "# ---- Second Location ------- #\n",
    "\n",
    "m2 = Model(solver=ClpSolver())\n",
    "@variable(m2, r2 >= 0)           # radius\n",
    "@variable(m2, x2[1:2])           # coordinates of center\n",
    "for i = 1:size(A2,1)\n",
    "    @constraint(m2, A2[i,:]'*x2 + r2*norm(A2[i,:]) <= B2[i])\n",
    "end\n",
    "@objective(m2, Max, r2)          # maximize radius\n",
    "\n",
    "status2 = solve(m2)\n",
    "center2 = getvalue(x2)\n",
    "radius2 = getvalue(r2)\n",
    "\n",
    "println()\n",
    "println(\"For the Second Museum:\")\n",
    "println(\"The coordinates of the Chebyshev center: \", center2)\n",
    "println(\"The largest possible radius: \", radius2)\n",
    "println(status2)"
   ]
  },
  {
   "cell_type": "markdown",
   "metadata": {},
   "source": [
    "##### Part Two\n",
    "\n",
    " If we were to take away the red line, a way of formulating the program would be to assemble one cirlce right in the center of the shape. This would be to represent the largest possible [single] cirlce that could ever fit in said polygon. Next, we would assemble a secondary circle in any of the corners that still exist and are not occupied by the first large one. However, it is at this point where this program is no longer a linear program, but rather a quadratic one. Were a linear program has values subject to linear equalities and linear inequality constraints, that no longer can apply here. \n",
    " \n",
    "For the problem we are given, we need to continually gorw one cirlce, and shrink the other. We also need to evaluate the radisu of each cirlce and calculate the area, as the end goal is to try and take up as much space as possible with our two cirlces. A quadratic programming problem has an objective which is a quadratic function of the decision variables, and constraints which are all linear functions of the variables.QP problems, like LP problems, have only one feasible region with \"flat faces\" on its surface (due to the linear constraints), but the optimal solution may be found anywhere within the region or on its surface.\n",
    "\n",
    "As we are trying to optimize cirlces within a given region, it makes perfect sense to classify this as a quadratic problem, rather than a linear one. "
   ]
  },
  {
   "cell_type": "code",
   "execution_count": null,
   "metadata": {},
   "outputs": [],
   "source": []
  },
  {
   "cell_type": "code",
   "execution_count": null,
   "metadata": {},
   "outputs": [],
   "source": []
  }
 ],
 "metadata": {
  "kernelspec": {
   "display_name": "Julia 1.0.3",
   "language": "julia",
   "name": "julia-1.0"
  },
  "language_info": {
   "file_extension": ".jl",
   "mimetype": "application/julia",
   "name": "julia",
   "version": "1.0.3"
  }
 },
 "nbformat": 4,
 "nbformat_minor": 2
}
