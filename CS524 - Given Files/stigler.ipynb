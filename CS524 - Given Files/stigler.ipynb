{
 "cells": [
  {
   "cell_type": "code",
   "execution_count": 1,
   "metadata": {
    "scrolled": true
   },
   "outputs": [
    {
     "ename": "MethodError",
     "evalue": "MethodError: no method matching NamedArray(::DataFrames.DataFrame, ::Tuple{Array{Union{Missing, String},1},DataFrames.DataFrameRow{DataFrames.DataFrame,DataFrames.SubIndex{DataFrames.Index,UnitRange{Int64},UnitRange{Int64}}}}, ::Tuple{String,String})\nClosest candidates are:\n  NamedArray(!Matched::AbstractArray{T,N}, !Matched::Tuple{}, ::Tuple{Vararg{Any,N}}) where {T, N} at /home/laibly/.julia/packages/NamedArrays/uMdmN/src/constructors.jl:29\n  NamedArray(!Matched::AbstractArray{T,N}, !Matched::Tuple{Vararg{OrderedCollections.OrderedDict,N}}, ::Tuple{Vararg{Any,N}}) where {S<:NamedArray, T, N} at /home/laibly/.julia/packages/NamedArrays/uMdmN/src/namedarraytypes.jl:49\n  NamedArray(!Matched::AbstractArray{T,N}, !Matched::Tuple{Vararg{Array{T,1} where T,N}}, ::Tuple{Vararg{Any,N}}) where {T, N} at /home/laibly/.julia/packages/NamedArrays/uMdmN/src/constructors.jl:48",
     "output_type": "error",
     "traceback": [
      "MethodError: no method matching NamedArray(::DataFrames.DataFrame, ::Tuple{Array{Union{Missing, String},1},DataFrames.DataFrameRow{DataFrames.DataFrame,DataFrames.SubIndex{DataFrames.Index,UnitRange{Int64},UnitRange{Int64}}}}, ::Tuple{String,String})\nClosest candidates are:\n  NamedArray(!Matched::AbstractArray{T,N}, !Matched::Tuple{}, ::Tuple{Vararg{Any,N}}) where {T, N} at /home/laibly/.julia/packages/NamedArrays/uMdmN/src/constructors.jl:29\n  NamedArray(!Matched::AbstractArray{T,N}, !Matched::Tuple{Vararg{OrderedCollections.OrderedDict,N}}, ::Tuple{Vararg{Any,N}}) where {S<:NamedArray, T, N} at /home/laibly/.julia/packages/NamedArrays/uMdmN/src/namedarraytypes.jl:49\n  NamedArray(!Matched::AbstractArray{T,N}, !Matched::Tuple{Vararg{Array{T,1} where T,N}}, ::Tuple{Vararg{Any,N}}) where {T, N} at /home/laibly/.julia/packages/NamedArrays/uMdmN/src/constructors.jl:48",
      "",
      "Stacktrace:",
      " [1] top-level scope at In[1]:17"
     ]
    }
   ],
   "source": [
    "# STARTER CODE FOR STIGLER'S DIET PROBLEM\n",
    "using NamedArrays\n",
    "using CSV\n",
    "\n",
    "# import Stigler's data set\n",
    "raw = CSV.read(\"stigler.csv\")\n",
    "(m,n) = size(raw)\n",
    "\n",
    "n_nutrients = 2:n      # columns containing nutrients\n",
    "n_foods = 3:m          # rows containing food names\n",
    "\n",
    "nutrients = raw[1,n_nutrients][:]   # the list of nutrients (convert to 1-D array)\n",
    "foods = raw[n_foods,1][:]           # the list of foods (convert to 1-D array)\n",
    "\n",
    "# lower[i] is the minimum daily requirement of nutrient i.\n",
    "lower = Dict( zip(nutrients,raw[2,n_nutrients]) )\n",
    "\n",
    "# data[f,i] is the amount of nutrient i contained in food f.\n",
    "data = NamedArray( raw[n_foods,n_nutrients], (foods,nutrients), (\"foods\",\"nutrients\") );\n"
   ]
  },
  {
   "cell_type": "code",
   "execution_count": 2,
   "metadata": {},
   "outputs": [
    {
     "ename": "UndefVarError",
     "evalue": "UndefVarError: data not defined",
     "output_type": "error",
     "traceback": [
      "UndefVarError: data not defined",
      "",
      "Stacktrace:",
      " [1] macro expansion at /home/laibly/.julia/packages/JuMP/PbnIJ/src/macros.jl:493 [inlined]",
      " [2] top-level scope at ./In[2]:14"
     ]
    }
   ],
   "source": [
    "using JuMP, Clp\n",
    "\n",
    "m = Model(solver=ClpSolver())\n",
    "\n",
    "#The amount of money spent on a given food item\n",
    "@variable(m, moneyForGivenFoodItem[1:size(n_foods,1)]>=0)\n",
    "\n",
    "#this matrix is similar to data expect each row is multiple by amount of money spent on\n",
    "#the food for the corresponding row\n",
    "@variable(m, foodCost[1:size(n_foods,1), 1:size(n_nutrients,1)])\n",
    "\n",
    "\n",
    "for i in 1:size(n_foods,1)\n",
    "    @constraint(m, foodCost[i, :] .== data[i,:]*moneyForGivenFoodItem[i])\n",
    "end\n",
    "\n",
    "#Every nutrient needs to be greater than or equal to the RDA\n",
    "for j = 1:size(n_nutrients,1)\n",
    "    @constraint(m, sum(foodCost[:,j]) >= lower[nutrients[j]])\n",
    "end\n",
    "\n",
    "#want to minimize the amount of money spent on food\n",
    "@objective(m, Min, sum(moneyForGivenFoodItem[:]))\n",
    "\n",
    "#solve\n",
    "solve(m)\n",
    "println(\"Total Annual Cost: \", getobjectivevalue(m)*365)\n",
    "for i in 1:77\n",
    "    \n",
    "    if(getvalue(moneyForGivenFoodItem[i])>0)  \n",
    "    count = (getvalue(moneyForGivenFoodItem[i])*data[i, :]) + count\n",
    "    println(\"Food that make up diet: \"foods[i])\n",
    "    end\n",
    "end"
   ]
  },
  {
   "cell_type": "code",
   "execution_count": 3,
   "metadata": {},
   "outputs": [
    {
     "ename": "UndefVarError",
     "evalue": "UndefVarError: data not defined",
     "output_type": "error",
     "traceback": [
      "UndefVarError: data not defined",
      "",
      "Stacktrace:",
      " [1] macro expansion at /home/laibly/.julia/packages/JuMP/PbnIJ/src/macros.jl:493 [inlined]",
      " [2] top-level scope at ./In[3]:14"
     ]
    }
   ],
   "source": [
    "using JuMP, Clp\n",
    "\n",
    "m = Model(solver=ClpSolver())\n",
    "\n",
    "#The amount of money spent on a given food item\n",
    "@variable(m, moneyForGivenFoodItem[1:size(n_foods,1)]>=0)\n",
    "\n",
    "#this matrix is similar to data expect each row is multiple by amount of money spent on\n",
    "#the food for the corresponding row\n",
    "@variable(m, foodCost[1:size(n_foods,1), 1:size(n_nutrients,1)])\n",
    "\n",
    "\n",
    "for i in 1:size(n_foods,1)\n",
    "    @constraint(m, foodCost[i, :] .== data[i,:]*moneyForGivenFoodItem[i])\n",
    "end\n",
    "\n",
    "#Every nutrient needs to be greater than or equal to the RDA\n",
    "for j = 1:size(n_nutrients,1)\n",
    "    @constraint(m, sum(foodCost[:,j]) >= lower[nutrients[j]])\n",
    "end\n",
    "\n",
    "#Convert to vegetarian\n",
    "@constraint(m, foodCost[30,:] .== 0)\n",
    "\n",
    "#want to minimize the amount of money spent on food\n",
    "@objective(m, Min, sum(moneyForGivenFoodItem[:]))\n",
    "\n",
    "#solve\n",
    "solve(m)\n",
    "println(\"Total Cost: \", getobjectivevalue(m)*365)\n",
    "for i in 1:77\n",
    "    \n",
    "    if(getvalue(moneyForGivenFoodItem[i])>0)  \n",
    "    count = (getvalue(moneyForGivenFoodItem[i])*data[i, :]) + count\n",
    "    println(\"Food that make up diet: \"foods[i])\n",
    "    end\n",
    "end"
   ]
  },
  {
   "cell_type": "code",
   "execution_count": null,
   "metadata": {},
   "outputs": [],
   "source": []
  }
 ],
 "metadata": {
  "kernelspec": {
   "display_name": "Julia 1.0.3",
   "language": "julia",
   "name": "julia-1.0"
  },
  "language_info": {
   "file_extension": ".jl",
   "mimetype": "application/julia",
   "name": "julia",
   "version": "1.0.3"
  }
 },
 "nbformat": 4,
 "nbformat_minor": 1
}
