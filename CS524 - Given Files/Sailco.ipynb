{
 "cells": [
  {
   "cell_type": "markdown",
   "metadata": {},
   "source": [
    "# Sailco problem\n",
    "Sailco manufactures sailboats. During the next 4 months the company must\n",
    "meet the following demands for their sailboats:\n",
    "\n",
    "|Month | 1 | 2 | 3 | 4 |\n",
    "|------|---|---|---|---|\n",
    "|Number of boats | 40 | 60 | 70 | 25 |\n",
    "\n",
    "At the beginning of Month 1, Sailco has 10 boats in inventory. Each month\n",
    "it must determine how many boats to produce. During any month, Sailco can\n",
    "produce up to 40 boats with regular labor and an unlimited number of boats\n",
    "with overtime labor. Boats produced with regular labor cost $\\$ 400$ each to\n",
    "produce, while boats produced with overtime labor cost $\\$ 450$ each. It costs \\$20 to hold a boat in inventory from one month to the next. Find the\n",
    "production and inventory schedule that minimizes the cost of meeting the\n",
    "next 4 months' demands."
   ]
  },
  {
   "cell_type": "markdown",
   "metadata": {},
   "source": [
    "### Solution"
   ]
  },
  {
   "cell_type": "code",
   "execution_count": 1,
   "metadata": {},
   "outputs": [
    {
     "name": "stdout",
     "output_type": "stream",
     "text": [
      "Build [40 40 40 25] using regular labor\n",
      "Build [0 10 30 0] using overtime labor\n",
      "Inventory: [10 10 0 0 0]\n"
     ]
    }
   ],
   "source": [
    "using JuMP, Clp\n",
    "\n",
    "d = [40 60 70 25]                   # monthly demand for boats\n",
    "\n",
    "m = Model(solver=ClpSolver())\n",
    "\n",
    "@variable(m, 0 <= x[1:4] <= 40)       # boats produced with regular labor\n",
    "@variable(m, y[1:4] >= 0)             # boats produced with overtime labor\n",
    "@variable(m, h[1:5] >= 0)             # boats held in inventory\n",
    "@constraint(m, h[1] == 10)\n",
    "@constraint(m, flow[i in 1:4], h[i]+x[i]+y[i]==d[i]+h[i+1])     # conservation of boats\n",
    "\n",
    "#What is a good objective?\n",
    "@objective(m, Min, 400*sum(x) + 450*sum(y) + 20*sum(h))         # minimize costs\n",
    "solve(m)\n",
    "\n",
    "println(\"Build \", Array{Int}(getvalue(x')), \" using regular labor\")\n",
    "println(\"Build \", Array{Int}(getvalue(y')), \" using overtime labor\")\n",
    "println(\"Inventory: \", Array{Int}(getvalue(h')))\n"
   ]
  },
  {
   "cell_type": "code",
   "execution_count": 2,
   "metadata": {},
   "outputs": [
    {
     "data": {
      "text/latex": [
       "$$ 400 x_{1} + 400 x_{2} + 400 x_{3} + 400 x_{4} + 450 y_{1} + 450 y_{2} + 450 y_{3} + 450 y_{4} + 20 h_{1} + 20 h_{2} + 20 h_{3} + 20 h_{4} + 20 h_{5} $$"
      ],
      "text/plain": [
       "400 x[1] + 400 x[2] + 400 x[3] + 400 x[4] + 450 y[1] + 450 y[2] + 450 y[3] + 450 y[4] + 20 h[1] + 20 h[2] + 20 h[3] + 20 h[4] + 20 h[5]"
      ]
     },
     "execution_count": 2,
     "metadata": {},
     "output_type": "execute_result"
    }
   ],
   "source": [
    "@objective(m, Min, 400*sum(x) + 450*sum(y) + 20*sum(h))         # minimize costs"
   ]
  },
  {
   "cell_type": "code",
   "execution_count": 3,
   "metadata": {},
   "outputs": [
    {
     "data": {
      "text/plain": [
       ":Optimal"
      ]
     },
     "execution_count": 3,
     "metadata": {},
     "output_type": "execute_result"
    }
   ],
   "source": [
    "solve(m)"
   ]
  },
  {
   "cell_type": "code",
   "execution_count": null,
   "metadata": {},
   "outputs": [],
   "source": []
  }
 ],
 "metadata": {
  "kernelspec": {
   "display_name": "Julia 1.0.3",
   "language": "julia",
   "name": "julia-1.0"
  },
  "language_info": {
   "file_extension": ".jl",
   "mimetype": "application/julia",
   "name": "julia",
   "version": "1.0.3"
  }
 },
 "nbformat": 4,
 "nbformat_minor": 1
}
