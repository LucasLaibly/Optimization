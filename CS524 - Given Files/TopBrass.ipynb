{
 "cells": [
  {
   "cell_type": "markdown",
   "metadata": {},
   "source": [
    "# Top Brass Trophy problem (Ex. 5.1 in Rardin'98)\n",
    "\n",
    "Top Brass Trophy Company makes large championship trophies for youth athletic leagues. At the moment, they are planning production for fall sports: football and soccer. Each football trophy has a wood base, an engraved plaque, a large brass football on top, and returns 12 dollars in profit. Soccer trophies are similar except that a brass soccer ball is on top, and the unit profit is only 9 dollars. Since the football has an asymmetric shape, its base requires 4 board feet of wood; the soccer base requires only 2 board feet. At the moment there are 1000 brass footballs in stock, 1500 soccer balls, 1750 plaques, and 4800 board feet of wood. What trophies should be produced from these supplies to maximize total profit assuming that all that are made can be sold?"
   ]
  },
  {
   "cell_type": "markdown",
   "metadata": {},
   "source": [
    "### Minimal solution"
   ]
  },
  {
   "cell_type": "code",
   "execution_count": 7,
   "metadata": {
    "scrolled": true
   },
   "outputs": [
    {
     "data": {
      "text/latex": [
       "$$ \\begin{alignat*}{1}\\max\\quad & 12 f + 9 s\\\\\n",
       "\\text{Subject to} \\quad & 4 f + 2 s \\leq 4800\\\\\n",
       " & f + s \\leq 1750\\\\\n",
       " & 0 \\leq f \\leq 1000\\\\\n",
       " & 0 \\leq s \\leq 1500\\\\\n",
       "\\end{alignat*}\n",
       " $$"
      ],
      "text/plain": [
       "Maximization problem with:\n",
       " * 2 linear constraints\n",
       " * 2 variables\n",
       "Solver is Clp"
      ]
     },
     "execution_count": 7,
     "metadata": {},
     "output_type": "execute_result"
    }
   ],
   "source": [
    "using JuMP, Clp\n",
    "\n",
    "m = Model(solver = ClpSolver())\n",
    "\n",
    "@variable(m, 0 <= f <= 1000)           # football trophies\n",
    "@variable(m, 0 <= s <= 1500)           # soccer trophies\n",
    "@constraint(m, 4f + 2s <= 4800)        # total board feet of wood\n",
    "@constraint(m, f + s <= 1750)          # total number of plaques\n",
    "@objective(m, Max, 12f + 9s)           # maximize profit\n",
    "\n",
    "m\n"
   ]
  },
  {
   "cell_type": "code",
   "execution_count": 2,
   "metadata": {},
   "outputs": [
    {
     "name": "stdout",
     "output_type": "stream",
     "text": [
      "Max 12 f + 9 s\n",
      "Subject to\n",
      " 4 f + 2 s ≤ 4800\n",
      " f + s ≤ 1750\n",
      " 0 ≤ f ≤ 1000\n",
      " 0 ≤ s ≤ 1500\n",
      "\n"
     ]
    }
   ],
   "source": [
    "println(m)"
   ]
  },
  {
   "cell_type": "code",
   "execution_count": 3,
   "metadata": {},
   "outputs": [
    {
     "name": "stdout",
     "output_type": "stream",
     "text": [
      "Optimal\n",
      "Build 650.0 football trophies.\n",
      "Build 1100.0 soccer trophies.\n",
      "Total profit will be $17700.0\n"
     ]
    }
   ],
   "source": [
    "status = solve(m)\n",
    "\n",
    "println(status)\n",
    "println(\"Build \", getvalue(f), \" football trophies.\")\n",
    "println(\"Build \", getvalue(s), \" soccer trophies.\")\n",
    "println(\"Total profit will be \\$\", getobjectivevalue(m))"
   ]
  },
  {
   "cell_type": "code",
   "execution_count": 4,
   "metadata": {},
   "outputs": [
    {
     "name": "stdout",
     "output_type": "stream",
     "text": [
      "Football trophies: 650.0\n",
      "Soccer trophies: 1100.0\n"
     ]
    }
   ],
   "source": [
    "using JuMP\n",
    "println(\"Football trophies: \",getvalue(f))\n",
    "println(\"Soccer trophies: \",getvalue(s))"
   ]
  },
  {
   "cell_type": "code",
   "execution_count": null,
   "metadata": {},
   "outputs": [],
   "source": []
  },
  {
   "cell_type": "code",
   "execution_count": null,
   "metadata": {},
   "outputs": [],
   "source": [
    "\n",
    "\n",
    "\n",
    "\n",
    "\n",
    "\n",
    "\n",
    "\n",
    "\n",
    "\n"
   ]
  },
  {
   "cell_type": "code",
   "execution_count": 5,
   "metadata": {},
   "outputs": [
    {
     "name": "stderr",
     "output_type": "stream",
     "text": [
      "┌ Info: Precompiling ECOS [e2685f51-7e38-5353-a97d-a921fd2c8199]\n",
      "└ @ Base loading.jl:1192\n",
      "┌ Info: Precompiling SCS [c946c3f1-0d1f-5ce8-9dea-7daa1f7e2d13]\n",
      "└ @ Base loading.jl:1192\n",
      "ERROR: LoadError: SCS not properly installed. Please run Pkg.build(\"SCS\") and restart julia\n",
      "Stacktrace:\n",
      " [1] top-level scope at /home/laibly/.julia/packages/SCS/L1XbN/src/SCS.jl:14\n",
      " [2] top-level scope at none:2\n",
      "in expression starting at /home/laibly/.julia/packages/SCS/L1XbN/src/SCS.jl:11\n"
     ]
    },
    {
     "ename": "ErrorException",
     "evalue": "Failed to precompile SCS [c946c3f1-0d1f-5ce8-9dea-7daa1f7e2d13] to /home/laibly/.julia/compiled/v1.0/SCS/uaibp.ji.",
     "output_type": "error",
     "traceback": [
      "Failed to precompile SCS [c946c3f1-0d1f-5ce8-9dea-7daa1f7e2d13] to /home/laibly/.julia/compiled/v1.0/SCS/uaibp.ji.",
      "",
      "Stacktrace:",
      " [1] compilecache(::Base.PkgId, ::String) at ./loading.jl:1203",
      " [2] _require(::Base.PkgId) at ./loading.jl:960",
      " [3] require(::Base.PkgId) at ./loading.jl:858",
      " [4] require(::Module, ::Symbol) at ./loading.jl:853",
      " [5] top-level scope at In[5]:1"
     ]
    }
   ],
   "source": [
    "using JuMP, Clp, ECOS, SCS, Cbc\n",
    "\n",
    "m = Model()\n",
    "\n",
    "@variable(m, 0 <= f <= 1000)           # football trophies\n",
    "@variable(m, 0 <= s <= 1500)           # soccer trophies\n",
    "@constraint(m, 4f + 2s <= 4800)        # total board feet of wood\n",
    "@constraint(m, f + s <= 1750)          # total number of plaques\n",
    "@objective(m, Max, 12f + 12s)           # maximize profit\n",
    "\n",
    "setsolver(m, ClpSolver())\n",
    "#setsolver(m, CbcSolver())\n",
    "#setsolver(m, ECOSSolver(verbose=0))\n",
    "#setsolver(m, SCSSolver(verbose=0))\n",
    "#setsolver(m, GurobiSolver())\n",
    "\n",
    "solve(m)\n",
    "\n",
    "println(status)\n",
    "println(\"Build \", getvalue(f), \" football trophies.\")\n",
    "println(\"Build \", getvalue(s), \" soccer trophies.\")\n",
    "println(\"Total profit will be \\$\", getobjectivevalue(m))"
   ]
  },
  {
   "cell_type": "code",
   "execution_count": null,
   "metadata": {},
   "outputs": [],
   "source": []
  },
  {
   "cell_type": "code",
   "execution_count": null,
   "metadata": {},
   "outputs": [],
   "source": [
    "\n"
   ]
  },
  {
   "cell_type": "code",
   "execution_count": null,
   "metadata": {},
   "outputs": [],
   "source": []
  },
  {
   "cell_type": "code",
   "execution_count": null,
   "metadata": {},
   "outputs": [],
   "source": []
  },
  {
   "cell_type": "code",
   "execution_count": null,
   "metadata": {},
   "outputs": [],
   "source": []
  }
 ],
 "metadata": {
  "kernelspec": {
   "display_name": "Julia 1.0.3",
   "language": "julia",
   "name": "julia-1.0"
  },
  "language_info": {
   "file_extension": ".jl",
   "mimetype": "application/julia",
   "name": "julia",
   "version": "1.0.3"
  }
 },
 "nbformat": 4,
 "nbformat_minor": 1
}
