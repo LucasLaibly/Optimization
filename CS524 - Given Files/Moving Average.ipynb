{
 "cells": [
  {
   "cell_type": "markdown",
   "metadata": {},
   "source": [
    "# Moving Average model"
   ]
  },
  {
   "cell_type": "code",
   "execution_count": 2,
   "metadata": {},
   "outputs": [
    {
     "ename": "ArgumentError",
     "evalue": "ArgumentError: \"uy_data.csv\" is not a valid file",
     "output_type": "error",
     "traceback": [
      "ArgumentError: \"uy_data.csv\" is not a valid file",
      "",
      "Stacktrace:",
      " [1] #File#1(::Int64, ::Bool, ::Int64, ::Nothing, ::Int64, ::Nothing, ::Bool, ::Nothing, ::Bool, ::Array{String,1}, ::String, ::String, ::Bool, ::Char, ::Nothing, ::Nothing, ::Char, ::Nothing, ::Nothing, ::Nothing, ::Nothing, ::Nothing, ::Dict{Type,Type}, ::Symbol, ::Bool, ::Bool, ::Bool, ::Bool, ::Base.Iterators.Pairs{Union{},Union{},Tuple{},NamedTuple{(),Tuple{}}}, ::Type, ::String) at /home/laibly/.julia/packages/CSV/eWuJV/src/CSV.jl:135",
      " [2] Type at /home/laibly/.julia/packages/CSV/eWuJV/src/CSV.jl:135 [inlined]",
      " [3] #read#105(::Bool, ::Dict{Int64,Function}, ::Base.Iterators.Pairs{Union{},Union{},Tuple{},NamedTuple{(),Tuple{}}}, ::Function, ::String, ::Type) at /home/laibly/.julia/packages/CSV/eWuJV/src/CSV.jl:310",
      " [4] read at /home/laibly/.julia/packages/CSV/eWuJV/src/CSV.jl:300 [inlined] (repeats 2 times)",
      " [5] top-level scope at In[2]:3"
     ]
    }
   ],
   "source": [
    "# Load the data file (ref: Boyd/263)\n",
    "using CSV\n",
    "raw = CSV.read(\"uy_data.csv\");\n",
    "u = raw[:,1];\n",
    "y = raw[:,2];\n",
    "T = length(u)\n",
    "\n",
    "# plot the u and y data\n",
    "using PyPlot\n",
    "figure(figsize=(12,4))\n",
    "plot([u y],\".-\");\n",
    "legend([\"input u\", \"output y\"], loc=\"lower right\");"
   ]
  },
  {
   "cell_type": "code",
   "execution_count": 3,
   "metadata": {},
   "outputs": [
    {
     "ename": "UndefVarError",
     "evalue": "UndefVarError: T not defined",
     "output_type": "error",
     "traceback": [
      "UndefVarError: T not defined",
      "",
      "Stacktrace:",
      " [1] top-level scope at In[3]:5"
     ]
    }
   ],
   "source": [
    "using LinearAlgebra\n",
    "\n",
    "# generate A matrix. Using more width creates better fit.  (MA model)\n",
    "width = 1\n",
    "A = zeros(T,width)\n",
    "for i = 1:width\n",
    "    A[i:end,i] = u[1:end-i+1]\n",
    "end\n",
    "wopt = A\\y\n",
    "yest = A*wopt\n",
    "\n",
    "figure(figsize=(12,4))\n",
    "plot(y,\"g.-\",yest,\"m.-\")\n",
    "legend([\"true output\", \"predicted output\"], loc=\"lower right\");\n",
    "title(\"Moving average model\");\n",
    "println()\n",
    "println(LinearAlgebra.norm(yest-y))"
   ]
  },
  {
   "cell_type": "code",
   "execution_count": 4,
   "metadata": {},
   "outputs": [
    {
     "ename": "UndefVarError",
     "evalue": "UndefVarError: T not defined",
     "output_type": "error",
     "traceback": [
      "UndefVarError: T not defined",
      "",
      "Stacktrace:",
      " [1] top-level scope at ./In[4]:5"
     ]
    }
   ],
   "source": [
    "# compute the error that the moving average model makes\n",
    "MaxWidth = 40\n",
    "errMA = zeros(MaxWidth)\n",
    "for width = 1:MaxWidth\n",
    "    AMA = zeros(T,width)\n",
    "    for i = 1:width\n",
    "        AMA[i:end,i] = u[1:end-i+1]\n",
    "    end\n",
    "    wMA = AMA\\y\n",
    "    yMAest = AMA*wMA\n",
    "    errMA[width] = norm(y-yMAest)\n",
    "    println(errMA[width])\n",
    "end\n",
    "figure(figsize=(8,3))\n",
    "title(\"Error as a function of window size\")\n",
    "plot(1:MaxWidth,errMA,\"b.-\")\n",
    "xlabel(\"window size\")\n",
    "ylabel(\"error\")\n",
    "legend([\"MA\"],loc=\"right\",fontsize=10)\n",
    "ylim([0,6])\n",
    ";"
   ]
  },
  {
   "cell_type": "code",
   "execution_count": null,
   "metadata": {},
   "outputs": [],
   "source": []
  },
  {
   "cell_type": "code",
   "execution_count": null,
   "metadata": {},
   "outputs": [],
   "source": []
  }
 ],
 "metadata": {
  "kernelspec": {
   "display_name": "Julia 1.0.3",
   "language": "julia",
   "name": "julia-1.0"
  },
  "language_info": {
   "file_extension": ".jl",
   "mimetype": "application/julia",
   "name": "julia",
   "version": "1.0.3"
  }
 },
 "nbformat": 4,
 "nbformat_minor": 1
}
