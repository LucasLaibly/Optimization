{
 "cells": [
  {
   "cell_type": "code",
   "execution_count": 1,
   "metadata": {},
   "outputs": [
    {
     "name": "stdout",
     "output_type": "stream",
     "text": [
      "105594.70000000001\n"
     ]
    }
   ],
   "source": [
    "cash0 = 100000\n",
    "\n",
    "using JuMP, Cbc, NamedArrays\n",
    "\n",
    "days = [1, 2, 3, 4, 5]\n",
    "stocks = [:am, :f, :m, :g, :ap]\n",
    "\n",
    "values = NamedArray(\n",
    "[1809.07 168.26 118.76 1188.04 190.35\n",
    "1810.54 170.79 119.02 1184.24 192.54\n",
    "1823.97 173.56 119.46 1193.36 194.93\n",
    "1824.93 177.06 120.05 1206.19 195.76\n",
    "1831.13 176.45 119.99 1214.68 196.57 ], (days, stocks), (\"Days\", \"Stocks\"))\n",
    "\n",
    "#m = Model(solver=GSolver(OutputFlag=0,BarHomogeneous=1))\n",
    "m = Model(solver=CbcSolver())\n",
    "\n",
    "@variable(m, sell[days, stocks] >= 0,Int)\n",
    "@variable(m, buy[days, stocks] >= 0,Int)\n",
    "@variable(m, hold[days,stocks] >= 0,Int)\n",
    "@variable(m, cash[days] >= 0)\n",
    "\n",
    "\n",
    "@constraint(m, hold_initial[j in stocks], hold[1, j] == buy[1, j])\n",
    "@constraint(m, cash[1] == cash0 - sum(values[1, j] * buy[1, j] for j in stocks))\n",
    "@constraint(m, sell_initial[j in stocks], sell[1, j] == 0)\n",
    "@constraint(m, sum(values[1, j] * buy[1, j] for j in stocks) <= cash0)\n",
    "\n",
    "\n",
    "@constraint(m, hold_constraint[i in 2:5, j in stocks], hold[i, j] == hold[i - 1, j] + buy[i, j] - sell[i, j])\n",
    "@constraint(m, cash_constraint[i in 2:5], \n",
    "                cash[i] == cash[i - 1] \n",
    "                        + sum(values[i, j] * sell[i, j] for j in stocks)\n",
    "                        - sum(values[i, j] * buy[i, j] for j in stocks))\n",
    "@constraint(m, buy_constraint[i in 2:5], sum(buy[i, j] * values[i, j] for j in stocks) <= cash[i])\n",
    "@constraint(m, sell_constraint[i in 2:5, j in stocks], sell[i, j] <= hold[i - 1, j])\n",
    "            \n",
    "@constraint(m, sum(hold[5, j] for j in stocks) == 0)\n",
    "\n",
    "@objective(m, Max, cash[5])\n",
    "solve(m)\n",
    "\n",
    "returnVal = getobjectivevalue(m)\n",
    "\n",
    "println(returnVal)"
   ]
  },
  {
   "cell_type": "code",
   "execution_count": 6,
   "metadata": {},
   "outputs": [
    {
     "data": {
      "text/plain": [
       "5×5 Named Array{Float64,2}\n",
       "Days ╲ Stocks │     :am       :f       :m       :g      :ap\n",
       "──────────────┼────────────────────────────────────────────\n",
       "1             │ 1809.07   168.26   118.76  1188.04   190.35\n",
       "2             │ 1810.54   170.79   119.02  1184.24   192.54\n",
       "3             │ 1823.97   173.56   119.46  1193.36   194.93\n",
       "4             │ 1824.93   177.06   120.05  1206.19   195.76\n",
       "5             │ 1831.13   176.45   119.99  1214.68   196.57"
      ]
     },
     "execution_count": 6,
     "metadata": {},
     "output_type": "execute_result"
    }
   ],
   "source": [
    "values"
   ]
  },
  {
   "cell_type": "code",
   "execution_count": 2,
   "metadata": {},
   "outputs": [
    {
     "data": {
      "text/plain": [
       "buy: 2 dimensions:\n",
       "[1,:]\n",
       "  [1,am] = 0.0\n",
       "  [1, f] = 594.0\n",
       "  [1, m] = 0.0\n",
       "  [1, g] = 0.0\n",
       "  [1,ap] = 0.0\n",
       "[2,:]\n",
       "  [2,am] = 0.0\n",
       "  [2, f] = 0.0\n",
       "  [2, m] = 0.0\n",
       "  [2, g] = 0.0\n",
       "  [2,ap] = 0.0\n",
       "[3,:]\n",
       "  [3,am] = 0.0\n",
       "  [3, f] = 0.0\n",
       "  [3, m] = 0.0\n",
       "  [3, g] = 0.0\n",
       "  [3,ap] = 0.0\n",
       "[4,:]\n",
       "  [4,am] = 0.0\n",
       "  [4, f] = 0.0\n",
       "  [4, m] = 0.0\n",
       "  [4, g] = 43.0\n",
       "  [4,ap] = 3.0\n",
       "[5,:]\n",
       "  [5,am] = 0.0\n",
       "  [5, f] = 0.0\n",
       "  [5, m] = 0.0\n",
       "  [5, g] = 0.0\n",
       "  [5,ap] = 0.0"
      ]
     },
     "execution_count": 2,
     "metadata": {},
     "output_type": "execute_result"
    }
   ],
   "source": [
    "getvalue(buy)"
   ]
  },
  {
   "cell_type": "code",
   "execution_count": 3,
   "metadata": {},
   "outputs": [
    {
     "data": {
      "text/plain": [
       "cash: 1 dimensions:\n",
       "[1] = 53.55999999999382\n",
       "[2] = 53.55999999999381\n",
       "[3] = 53.55999999999381\n",
       "[4] = 52773.75\n",
       "[5] = 105594.70000000001"
      ]
     },
     "execution_count": 3,
     "metadata": {},
     "output_type": "execute_result"
    }
   ],
   "source": [
    "getvalue(cash)"
   ]
  },
  {
   "cell_type": "code",
   "execution_count": 4,
   "metadata": {},
   "outputs": [
    {
     "data": {
      "text/plain": [
       "sell: 2 dimensions:\n",
       "[1,:]\n",
       "  [1,am] = 0.0\n",
       "  [1, f] = 0.0\n",
       "  [1, m] = 0.0\n",
       "  [1, g] = 0.0\n",
       "  [1,ap] = 0.0\n",
       "[2,:]\n",
       "  [2,am] = 0.0\n",
       "  [2, f] = 0.0\n",
       "  [2, m] = 0.0\n",
       "  [2, g] = 0.0\n",
       "  [2,ap] = 0.0\n",
       "[3,:]\n",
       "  [3,am] = 0.0\n",
       "  [3, f] = 0.0\n",
       "  [3, m] = 0.0\n",
       "  [3, g] = 0.0\n",
       "  [3,ap] = 0.0\n",
       "[4,:]\n",
       "  [4,am] = 0.0\n",
       "  [4, f] = 594.0\n",
       "  [4, m] = 0.0\n",
       "  [4, g] = 0.0\n",
       "  [4,ap] = 0.0\n",
       "[5,:]\n",
       "  [5,am] = 0.0\n",
       "  [5, f] = 0.0\n",
       "  [5, m] = 0.0\n",
       "  [5, g] = 43.0\n",
       "  [5,ap] = 2.9999999999999996"
      ]
     },
     "execution_count": 4,
     "metadata": {},
     "output_type": "execute_result"
    }
   ],
   "source": [
    "getvalue(sell)"
   ]
  },
  {
   "cell_type": "code",
   "execution_count": 5,
   "metadata": {},
   "outputs": [
    {
     "data": {
      "text/plain": [
       "hold: 2 dimensions:\n",
       "[1,:]\n",
       "  [1,am] = 0.0\n",
       "  [1, f] = 594.0000000000001\n",
       "  [1, m] = 0.0\n",
       "  [1, g] = 0.0\n",
       "  [1,ap] = 0.0\n",
       "[2,:]\n",
       "  [2,am] = 0.0\n",
       "  [2, f] = 594.0\n",
       "  [2, m] = 0.0\n",
       "  [2, g] = 0.0\n",
       "  [2,ap] = 0.0\n",
       "[3,:]\n",
       "  [3,am] = 0.0\n",
       "  [3, f] = 594.0000000000001\n",
       "  [3, m] = 0.0\n",
       "  [3, g] = 0.0\n",
       "  [3,ap] = 0.0\n",
       "[4,:]\n",
       "  [4,am] = 0.0\n",
       "  [4, f] = 0.0\n",
       "  [4, m] = 0.0\n",
       "  [4, g] = 43.0\n",
       "  [4,ap] = 3.0000000000000004\n",
       "[5,:]\n",
       "  [5,am] = 0.0\n",
       "  [5, f] = 0.0\n",
       "  [5, m] = 0.0\n",
       "  [5, g] = 0.0\n",
       "  [5,ap] = 0.0"
      ]
     },
     "execution_count": 5,
     "metadata": {},
     "output_type": "execute_result"
    }
   ],
   "source": [
    "getvalue(hold)"
   ]
  },
  {
   "cell_type": "code",
   "execution_count": null,
   "metadata": {},
   "outputs": [],
   "source": []
  }
 ],
 "metadata": {
  "kernelspec": {
   "display_name": "Julia 1.0.3",
   "language": "julia",
   "name": "julia-1.0"
  },
  "language_info": {
   "file_extension": ".jl",
   "mimetype": "application/julia",
   "name": "julia",
   "version": "1.0.3"
  }
 },
 "nbformat": 4,
 "nbformat_minor": 2
}
