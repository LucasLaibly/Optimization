{
 "cells": [
  {
   "cell_type": "markdown",
   "metadata": {},
   "source": [
    "### Question Four"
   ]
  },
  {
   "cell_type": "code",
   "execution_count": 1,
   "metadata": {
    "scrolled": true
   },
   "outputs": [
    {
     "data": {
      "text/html": [
       "<table class=\"data-frame\"><thead><tr><th></th><th>Column1</th><th>Calories (1000)</th><th>Protein (g)</th><th>Calcium (g)</th><th>Iron (mg)</th><th>Vitamin A (1000 IU)</th><th>Thiamine (mg)</th><th>Riboflavin (mg)</th><th>Niacin (mg)</th><th>Ascorbic Acid (mg)</th></tr><tr><th></th><th>String⍰</th><th>Float64⍰</th><th>Int64⍰</th><th>Float64⍰</th><th>Int64⍰</th><th>Float64⍰</th><th>Float64⍰</th><th>Float64⍰</th><th>Int64⍰</th><th>Int64⍰</th></tr></thead><tbody><p>78 rows × 10 columns</p><tr><th>1</th><td>MINIMUM REQUIRED</td><td>3.0</td><td>70</td><td>0.8</td><td>12</td><td>5.0</td><td>1.8</td><td>2.7</td><td>18</td><td>75</td></tr><tr><th>2</th><td>Wheat Flour (Enriched)</td><td>44.7</td><td>1411</td><td>2.0</td><td>365</td><td>0.0</td><td>55.4</td><td>33.3</td><td>441</td><td>0</td></tr><tr><th>3</th><td>Macaroni</td><td>11.6</td><td>418</td><td>0.7</td><td>54</td><td>0.0</td><td>3.2</td><td>1.9</td><td>68</td><td>0</td></tr><tr><th>4</th><td>Wheat Cereal (Enriched)</td><td>11.8</td><td>377</td><td>14.4</td><td>175</td><td>0.0</td><td>14.4</td><td>8.8</td><td>114</td><td>0</td></tr><tr><th>5</th><td>Corn Flakes</td><td>11.4</td><td>252</td><td>0.1</td><td>56</td><td>0.0</td><td>13.5</td><td>2.3</td><td>68</td><td>0</td></tr><tr><th>6</th><td>Corn Meal</td><td>36.0</td><td>897</td><td>1.7</td><td>99</td><td>30.9</td><td>17.4</td><td>7.9</td><td>106</td><td>0</td></tr><tr><th>7</th><td>Hominy Grits</td><td>28.6</td><td>680</td><td>0.8</td><td>80</td><td>0.0</td><td>10.6</td><td>1.6</td><td>110</td><td>0</td></tr><tr><th>8</th><td>Rice</td><td>21.2</td><td>460</td><td>0.6</td><td>41</td><td>0.0</td><td>2.0</td><td>4.8</td><td>60</td><td>0</td></tr><tr><th>9</th><td>Rolled Oats</td><td>25.3</td><td>907</td><td>5.1</td><td>341</td><td>0.0</td><td>37.1</td><td>8.9</td><td>64</td><td>0</td></tr><tr><th>10</th><td>White Bread (Enriched)</td><td>15.0</td><td>488</td><td>2.5</td><td>115</td><td>0.0</td><td>13.8</td><td>8.5</td><td>126</td><td>0</td></tr><tr><th>11</th><td>Whole Wheat Bread</td><td>12.2</td><td>484</td><td>2.7</td><td>125</td><td>0.0</td><td>13.9</td><td>6.4</td><td>160</td><td>0</td></tr><tr><th>12</th><td>Rye Bread</td><td>12.4</td><td>439</td><td>1.1</td><td>82</td><td>0.0</td><td>9.9</td><td>3.0</td><td>66</td><td>0</td></tr><tr><th>13</th><td>Pound Cake</td><td>8.0</td><td>130</td><td>0.4</td><td>31</td><td>18.9</td><td>2.8</td><td>3.0</td><td>17</td><td>0</td></tr><tr><th>14</th><td>Soda Crackers</td><td>12.5</td><td>288</td><td>0.5</td><td>50</td><td>0.0</td><td>0.0</td><td>0.0</td><td>0</td><td>0</td></tr><tr><th>15</th><td>Milk</td><td>6.1</td><td>310</td><td>10.5</td><td>18</td><td>16.8</td><td>4.0</td><td>16.0</td><td>7</td><td>177</td></tr><tr><th>16</th><td>Evaporated Milk (can)</td><td>8.4</td><td>422</td><td>15.1</td><td>9</td><td>26.0</td><td>3.0</td><td>23.5</td><td>11</td><td>60</td></tr><tr><th>17</th><td>Butter</td><td>10.8</td><td>9</td><td>0.2</td><td>3</td><td>44.2</td><td>0.0</td><td>0.2</td><td>2</td><td>0</td></tr><tr><th>18</th><td>Oleomargarine</td><td>20.6</td><td>17</td><td>0.6</td><td>6</td><td>55.8</td><td>0.2</td><td>0.0</td><td>0</td><td>0</td></tr><tr><th>19</th><td>Eggs</td><td>2.9</td><td>238</td><td>1.0</td><td>52</td><td>18.6</td><td>2.8</td><td>6.5</td><td>1</td><td>0</td></tr><tr><th>20</th><td>Cheese (Cheddar)</td><td>7.4</td><td>448</td><td>16.4</td><td>19</td><td>28.1</td><td>0.8</td><td>10.3</td><td>4</td><td>0</td></tr><tr><th>21</th><td>Cream</td><td>3.5</td><td>49</td><td>1.7</td><td>3</td><td>16.9</td><td>0.6</td><td>2.5</td><td>0</td><td>17</td></tr><tr><th>22</th><td>Peanut Butter</td><td>15.7</td><td>661</td><td>1.0</td><td>48</td><td>0.0</td><td>9.6</td><td>8.1</td><td>471</td><td>0</td></tr><tr><th>23</th><td>Mayonnaise</td><td>8.6</td><td>18</td><td>0.2</td><td>8</td><td>2.7</td><td>0.4</td><td>0.5</td><td>0</td><td>0</td></tr><tr><th>24</th><td>Crisco</td><td>20.1</td><td>0</td><td>0.0</td><td>0</td><td>0.0</td><td>0.0</td><td>0.0</td><td>0</td><td>0</td></tr><tr><th>25</th><td>Lard</td><td>41.7</td><td>0</td><td>0.0</td><td>0</td><td>0.2</td><td>0.0</td><td>0.5</td><td>5</td><td>0</td></tr><tr><th>26</th><td>Sirloin Steak</td><td>2.9</td><td>166</td><td>0.1</td><td>34</td><td>0.2</td><td>2.1</td><td>2.9</td><td>69</td><td>0</td></tr><tr><th>27</th><td>Round Steak</td><td>2.2</td><td>214</td><td>0.1</td><td>32</td><td>0.4</td><td>2.5</td><td>2.4</td><td>87</td><td>0</td></tr><tr><th>28</th><td>Rib Roast</td><td>3.4</td><td>213</td><td>0.1</td><td>33</td><td>0.0</td><td>0.0</td><td>2.0</td><td>0</td><td>0</td></tr><tr><th>29</th><td>Chuck Roast</td><td>3.6</td><td>309</td><td>0.2</td><td>46</td><td>0.4</td><td>1.0</td><td>4.0</td><td>120</td><td>0</td></tr><tr><th>30</th><td>Plate</td><td>8.5</td><td>404</td><td>0.2</td><td>62</td><td>0.0</td><td>0.9</td><td>0.0</td><td>0</td><td>0</td></tr><tr><th>&vellip;</th><td>&vellip;</td><td>&vellip;</td><td>&vellip;</td><td>&vellip;</td><td>&vellip;</td><td>&vellip;</td><td>&vellip;</td><td>&vellip;</td><td>&vellip;</td><td>&vellip;</td></tr></tbody></table>"
      ],
      "text/latex": [
       "\\begin{tabular}{r|cccccccccc}\n",
       "\t& Column1 & Calories (1000) & Protein (g) & Calcium (g) & Iron (mg) & Vitamin A (1000 IU) & Thiamine (mg) & Riboflavin (mg) & Niacin (mg) & Ascorbic Acid (mg)\\\\\n",
       "\t\\hline\n",
       "\t& String⍰ & Float64⍰ & Int64⍰ & Float64⍰ & Int64⍰ & Float64⍰ & Float64⍰ & Float64⍰ & Int64⍰ & Int64⍰\\\\\n",
       "\t\\hline\n",
       "\t1 & MINIMUM REQUIRED & 3.0 & 70 & 0.8 & 12 & 5.0 & 1.8 & 2.7 & 18 & 75 \\\\\n",
       "\t2 & Wheat Flour (Enriched) & 44.7 & 1411 & 2.0 & 365 & 0.0 & 55.4 & 33.3 & 441 & 0 \\\\\n",
       "\t3 & Macaroni & 11.6 & 418 & 0.7 & 54 & 0.0 & 3.2 & 1.9 & 68 & 0 \\\\\n",
       "\t4 & Wheat Cereal (Enriched) & 11.8 & 377 & 14.4 & 175 & 0.0 & 14.4 & 8.8 & 114 & 0 \\\\\n",
       "\t5 & Corn Flakes & 11.4 & 252 & 0.1 & 56 & 0.0 & 13.5 & 2.3 & 68 & 0 \\\\\n",
       "\t6 & Corn Meal & 36.0 & 897 & 1.7 & 99 & 30.9 & 17.4 & 7.9 & 106 & 0 \\\\\n",
       "\t7 & Hominy Grits & 28.6 & 680 & 0.8 & 80 & 0.0 & 10.6 & 1.6 & 110 & 0 \\\\\n",
       "\t8 & Rice & 21.2 & 460 & 0.6 & 41 & 0.0 & 2.0 & 4.8 & 60 & 0 \\\\\n",
       "\t9 & Rolled Oats & 25.3 & 907 & 5.1 & 341 & 0.0 & 37.1 & 8.9 & 64 & 0 \\\\\n",
       "\t10 & White Bread (Enriched) & 15.0 & 488 & 2.5 & 115 & 0.0 & 13.8 & 8.5 & 126 & 0 \\\\\n",
       "\t11 & Whole Wheat Bread & 12.2 & 484 & 2.7 & 125 & 0.0 & 13.9 & 6.4 & 160 & 0 \\\\\n",
       "\t12 & Rye Bread & 12.4 & 439 & 1.1 & 82 & 0.0 & 9.9 & 3.0 & 66 & 0 \\\\\n",
       "\t13 & Pound Cake & 8.0 & 130 & 0.4 & 31 & 18.9 & 2.8 & 3.0 & 17 & 0 \\\\\n",
       "\t14 & Soda Crackers & 12.5 & 288 & 0.5 & 50 & 0.0 & 0.0 & 0.0 & 0 & 0 \\\\\n",
       "\t15 & Milk & 6.1 & 310 & 10.5 & 18 & 16.8 & 4.0 & 16.0 & 7 & 177 \\\\\n",
       "\t16 & Evaporated Milk (can) & 8.4 & 422 & 15.1 & 9 & 26.0 & 3.0 & 23.5 & 11 & 60 \\\\\n",
       "\t17 & Butter & 10.8 & 9 & 0.2 & 3 & 44.2 & 0.0 & 0.2 & 2 & 0 \\\\\n",
       "\t18 & Oleomargarine & 20.6 & 17 & 0.6 & 6 & 55.8 & 0.2 & 0.0 & 0 & 0 \\\\\n",
       "\t19 & Eggs & 2.9 & 238 & 1.0 & 52 & 18.6 & 2.8 & 6.5 & 1 & 0 \\\\\n",
       "\t20 & Cheese (Cheddar) & 7.4 & 448 & 16.4 & 19 & 28.1 & 0.8 & 10.3 & 4 & 0 \\\\\n",
       "\t21 & Cream & 3.5 & 49 & 1.7 & 3 & 16.9 & 0.6 & 2.5 & 0 & 17 \\\\\n",
       "\t22 & Peanut Butter & 15.7 & 661 & 1.0 & 48 & 0.0 & 9.6 & 8.1 & 471 & 0 \\\\\n",
       "\t23 & Mayonnaise & 8.6 & 18 & 0.2 & 8 & 2.7 & 0.4 & 0.5 & 0 & 0 \\\\\n",
       "\t24 & Crisco & 20.1 & 0 & 0.0 & 0 & 0.0 & 0.0 & 0.0 & 0 & 0 \\\\\n",
       "\t25 & Lard & 41.7 & 0 & 0.0 & 0 & 0.2 & 0.0 & 0.5 & 5 & 0 \\\\\n",
       "\t26 & Sirloin Steak & 2.9 & 166 & 0.1 & 34 & 0.2 & 2.1 & 2.9 & 69 & 0 \\\\\n",
       "\t27 & Round Steak & 2.2 & 214 & 0.1 & 32 & 0.4 & 2.5 & 2.4 & 87 & 0 \\\\\n",
       "\t28 & Rib Roast & 3.4 & 213 & 0.1 & 33 & 0.0 & 0.0 & 2.0 & 0 & 0 \\\\\n",
       "\t29 & Chuck Roast & 3.6 & 309 & 0.2 & 46 & 0.4 & 1.0 & 4.0 & 120 & 0 \\\\\n",
       "\t30 & Plate & 8.5 & 404 & 0.2 & 62 & 0.0 & 0.9 & 0.0 & 0 & 0 \\\\\n",
       "\t$\\dots$ & $\\dots$ & $\\dots$ & $\\dots$ & $\\dots$ & $\\dots$ & $\\dots$ & $\\dots$ & $\\dots$ & $\\dots$ & $\\dots$ \\\\\n",
       "\\end{tabular}\n"
      ],
      "text/plain": [
       "78×10 DataFrames.DataFrame. Omitted printing of 6 columns\n",
       "│ Row │ Column1                 │ Calories (1000) │ Protein (g) │ Calcium (g) │\n",
       "│     │ \u001b[90mUnion{Missing, String}\u001b[39m  │ \u001b[90mFloat64⍰\u001b[39m        │ \u001b[90mInt64⍰\u001b[39m      │ \u001b[90mFloat64⍰\u001b[39m    │\n",
       "├─────┼─────────────────────────┼─────────────────┼─────────────┼─────────────┤\n",
       "│ 1   │ MINIMUM REQUIRED        │ 3.0             │ 70          │ 0.8         │\n",
       "│ 2   │ Wheat Flour (Enriched)  │ 44.7            │ 1411        │ 2.0         │\n",
       "│ 3   │ Macaroni                │ 11.6            │ 418         │ 0.7         │\n",
       "│ 4   │ Wheat Cereal (Enriched) │ 11.8            │ 377         │ 14.4        │\n",
       "│ 5   │ Corn Flakes             │ 11.4            │ 252         │ 0.1         │\n",
       "│ 6   │ Corn Meal               │ 36.0            │ 897         │ 1.7         │\n",
       "│ 7   │ Hominy Grits            │ 28.6            │ 680         │ 0.8         │\n",
       "│ 8   │ Rice                    │ 21.2            │ 460         │ 0.6         │\n",
       "│ 9   │ Rolled Oats             │ 25.3            │ 907         │ 5.1         │\n",
       "│ 10  │ White Bread (Enriched)  │ 15.0            │ 488         │ 2.5         │\n",
       "⋮\n",
       "│ 68  │ Peas, Dried             │ 20.0            │ 1367        │ 4.2         │\n",
       "│ 69  │ Lima Beans, Dried       │ 17.4            │ 1055        │ 3.7         │\n",
       "│ 70  │ Navy Beans, Dried       │ 26.9            │ 1691        │ 11.4        │\n",
       "│ 71  │ Coffee                  │ 0.0             │ 0           │ 0.0         │\n",
       "│ 72  │ Tea                     │ 0.0             │ 0           │ 0.0         │\n",
       "│ 73  │ Cocoa                   │ 8.7             │ 237         │ 3.0         │\n",
       "│ 74  │ Chocolate               │ 8.0             │ 77          │ 1.3         │\n",
       "│ 75  │ Sugar                   │ 34.9            │ 0           │ 0.0         │\n",
       "│ 76  │ Corn Syrup              │ 14.7            │ 0           │ 0.5         │\n",
       "│ 77  │ Molasses                │ 9.0             │ 0           │ 10.3        │\n",
       "│ 78  │ Strawberry Preserves    │ 6.4             │ 11          │ 0.4         │"
      ]
     },
     "execution_count": 1,
     "metadata": {},
     "output_type": "execute_result"
    }
   ],
   "source": [
    "# STARTER CODE FOR STIGLER'S DIET PROBLEM\n",
    "using CSV\n",
    "\n",
    "# import Stigler's data set\n",
    "raw = CSV.read(\"stigler.csv\")"
   ]
  },
  {
   "cell_type": "code",
   "execution_count": 2,
   "metadata": {},
   "outputs": [
    {
     "name": "stdout",
     "output_type": "stream",
     "text": [
      "The nutrient (Calories (1000)) in food (Wheat Flour (Enriched)) is 44.7\n"
     ]
    },
    {
     "data": {
      "text/plain": [
       "Float64"
      ]
     },
     "execution_count": 2,
     "metadata": {},
     "output_type": "execute_result"
    }
   ],
   "source": [
    "# Get data\n",
    "\n",
    "# list of food\n",
    "foods = raw[2:end,1]\n",
    "\n",
    "# list of nutrients\n",
    "nutrients = [string(names(raw)[i]) for i=2:length(names(raw))]\n",
    "\n",
    "# minimum required amount of each nutrient\n",
    "lower_bound = raw[1,2:end]\n",
    "\n",
    "# data[f,i] is the amount of nutrient i contained in food f \n",
    "data = raw[2:end,2:end]\n",
    "\n",
    "# Note: data is not a matrix, but a dataframe. \n",
    "# You can access individual elements as if it was a matrix:\n",
    "a = data[1,1]   # get the first element \n",
    "println(\"The nutrient ($(nutrients[1])) in food ($(foods[1])) is $a\")\n",
    "typeof(a)       # will tell you that a is a floating point number"
   ]
  },
  {
   "cell_type": "code",
   "execution_count": 3,
   "metadata": {},
   "outputs": [
    {
     "data": {
      "text/html": [
       "<p>DataFrameRow</p><table class=\"data-frame\"><thead><tr><th></th><th>Calories (1000)</th><th>Protein (g)</th><th>Calcium (g)</th><th>Iron (mg)</th><th>Vitamin A (1000 IU)</th><th>Thiamine (mg)</th><th>Riboflavin (mg)</th><th>Niacin (mg)</th><th>Ascorbic Acid (mg)</th></tr><tr><th></th><th>Float64⍰</th><th>Int64⍰</th><th>Float64⍰</th><th>Int64⍰</th><th>Float64⍰</th><th>Float64⍰</th><th>Float64⍰</th><th>Int64⍰</th><th>Int64⍰</th></tr></thead><tbody><p>1 rows × 9 columns</p><tr><th>1</th><td>3.0</td><td>70</td><td>0.8</td><td>12</td><td>5.0</td><td>1.8</td><td>2.7</td><td>18</td><td>75</td></tr></tbody></table>"
      ],
      "text/latex": [
       "\\begin{tabular}{r|ccccccccc}\n",
       "\t& Calories (1000) & Protein (g) & Calcium (g) & Iron (mg) & Vitamin A (1000 IU) & Thiamine (mg) & Riboflavin (mg) & Niacin (mg) & Ascorbic Acid (mg)\\\\\n",
       "\t\\hline\n",
       "\t& Float64⍰ & Int64⍰ & Float64⍰ & Int64⍰ & Float64⍰ & Float64⍰ & Float64⍰ & Int64⍰ & Int64⍰\\\\\n",
       "\t\\hline\n",
       "\t1 & 3.0 & 70 & 0.8 & 12 & 5.0 & 1.8 & 2.7 & 18 & 75 \\\\\n",
       "\\end{tabular}\n"
      ],
      "text/plain": [
       "DataFrameRow. Omitted printing of 5 columns\n",
       "│ Row │ Calories (1000) │ Protein (g) │ Calcium (g) │ Iron (mg) │\n",
       "│     │ \u001b[90mFloat64⍰\u001b[39m        │ \u001b[90mInt64⍰\u001b[39m      │ \u001b[90mFloat64⍰\u001b[39m    │ \u001b[90mInt64⍰\u001b[39m    │\n",
       "├─────┼─────────────────┼─────────────┼─────────────┼───────────┤\n",
       "│ 1   │ 3.0             │ 70          │ 0.8         │ 12        │"
      ]
     },
     "execution_count": 3,
     "metadata": {},
     "output_type": "execute_result"
    }
   ],
   "source": [
    "lower_bound = raw[1,2:end]"
   ]
  },
  {
   "cell_type": "code",
   "execution_count": 4,
   "metadata": {},
   "outputs": [
    {
     "name": "stderr",
     "output_type": "stream",
     "text": [
      "┌ Warning: `convert(::Type{Array}, dfr::DataFrameRow)` is deprecated, use `permutedims(Vector(dfr))` instead.\n",
      "│   caller = top-level scope at In[4]:1\n",
      "└ @ Core In[4]:1\n"
     ]
    },
    {
     "data": {
      "text/plain": [
       "1×9 Array{Any,2}:\n",
       " 3.0  70  0.8  12  5.0  1.8  2.7  18  75"
      ]
     },
     "execution_count": 4,
     "metadata": {},
     "output_type": "execute_result"
    }
   ],
   "source": [
    "min_require = convert(Array, lower_bound)"
   ]
  },
  {
   "cell_type": "code",
   "execution_count": 5,
   "metadata": {},
   "outputs": [
    {
     "name": "stderr",
     "output_type": "stream",
     "text": [
      "┌ Warning: `convert(::Type{Array}, df::AbstractDataFrame)` is deprecated, use `convert(Matrix, df)` instead.\n",
      "│   caller = top-level scope at In[5]:1\n",
      "└ @ Core In[5]:1\n"
     ]
    },
    {
     "data": {
      "text/plain": [
       "77×9 Array{Union{Missing, Float64},2}:\n",
       " 44.7  1411.0   2.0  365.0   0.0  55.4  33.3  441.0    0.0\n",
       " 11.6   418.0   0.7   54.0   0.0   3.2   1.9   68.0    0.0\n",
       " 11.8   377.0  14.4  175.0   0.0  14.4   8.8  114.0    0.0\n",
       " 11.4   252.0   0.1   56.0   0.0  13.5   2.3   68.0    0.0\n",
       " 36.0   897.0   1.7   99.0  30.9  17.4   7.9  106.0    0.0\n",
       " 28.6   680.0   0.8   80.0   0.0  10.6   1.6  110.0    0.0\n",
       " 21.2   460.0   0.6   41.0   0.0   2.0   4.8   60.0    0.0\n",
       " 25.3   907.0   5.1  341.0   0.0  37.1   8.9   64.0    0.0\n",
       " 15.0   488.0   2.5  115.0   0.0  13.8   8.5  126.0    0.0\n",
       " 12.2   484.0   2.7  125.0   0.0  13.9   6.4  160.0    0.0\n",
       " 12.4   439.0   1.1   82.0   0.0   9.9   3.0   66.0    0.0\n",
       "  8.0   130.0   0.4   31.0  18.9   2.8   3.0   17.0    0.0\n",
       " 12.5   288.0   0.5   50.0   0.0   0.0   0.0    0.0    0.0\n",
       "  ⋮                                ⋮                      \n",
       " 13.5   104.0   2.5  136.0   4.5   6.3   1.4   24.0  136.0\n",
       " 20.0  1367.0   4.2  345.0   2.9  28.7  18.4  162.0    0.0\n",
       " 17.4  1055.0   3.7  459.0   5.1  26.9  38.2   93.0    0.0\n",
       " 26.9  1691.0  11.4  792.0   0.0  38.4  24.6  217.0    0.0\n",
       "  0.0     0.0   0.0    0.0   0.0   4.0   5.1   50.0    0.0\n",
       "  0.0     0.0   0.0    0.0   0.0   0.0   2.3   42.0    0.0\n",
       "  8.7   237.0   3.0   72.0   0.0   2.0  11.9   40.0    0.0\n",
       "  8.0    77.0   1.3   39.0   0.0   0.9   3.4   14.0    0.0\n",
       " 34.9     0.0   0.0    0.0   0.0   0.0   0.0    0.0    0.0\n",
       " 14.7     0.0   0.5   74.0   0.0   0.0   0.0    5.0    0.0\n",
       "  9.0     0.0  10.3  244.0   0.0   1.9   7.5  146.0    0.0\n",
       "  6.4    11.0   0.4    7.0   0.2   0.2   0.4    3.0    0.0"
      ]
     },
     "execution_count": 5,
     "metadata": {},
     "output_type": "execute_result"
    }
   ],
   "source": [
    "nut_data = convert(Array, data)"
   ]
  },
  {
   "cell_type": "code",
   "execution_count": 13,
   "metadata": {},
   "outputs": [
    {
     "name": "stdout",
     "output_type": "stream",
     "text": [
      "Optimal\n",
      "\n",
      "Objective = 39.661731545466246\n",
      "\n",
      "Wheat Flour (Enriched) makes up the optimal diet\n",
      "Liver (Beef) makes up the optimal diet\n",
      "Cabbage makes up the optimal diet\n",
      "Spinach makes up the optimal diet\n",
      "Navy Beans, Dried makes up the optimal diet\n"
     ]
    }
   ],
   "source": [
    "using JuMP, Clp\n",
    "\n",
    "original = Model(solver=ClpSolver())\n",
    "@variable(original, money_spent[1:size(foods,1)] >= 0)               # Money spent on each food\n",
    "@variable(original, food_cost[1:size(foods,1), 1:size(nutrients,1)]) # Nutrition cost\n",
    "\n",
    "# Get the nutrition cost\n",
    "for i in 1:size(foods,1)\n",
    "    @constraint(original, food_cost[i,:] .== nut_data[i,:]*money_spent[i])\n",
    "end\n",
    "\n",
    "# Nutient needs to be >= zeor\n",
    "for j in 1:size(nutrients,1)\n",
    "    @constraint(original, sum(food_cost[:,j]) >= min_require[j])\n",
    "end\n",
    "    \n",
    "@objective(original, Min, sum(money_spent))                          # Minimize the price\n",
    "\n",
    "status = solve(original)\n",
    "\n",
    "println(status)\n",
    "println()\n",
    "println(\"Objective = \", getobjectivevalue(original) * 365 )\n",
    "println()\n",
    "\n",
    "for i in 1:size(foods,1)\n",
    "    if(getvalue(money_spent[i]) > 0)\n",
    "        println(foods[i],\" makes up the optimal diet\")\n",
    "    end\n",
    "end\n"
   ]
  },
  {
   "cell_type": "markdown",
   "metadata": {},
   "source": [
    "### Question One\n",
    "\n",
    "We are asked how our diet compares to Stigler's original diet. And in fact, ours is cheaper by a measly $0.30. Which is rather impressive that Stigler was able to get as close to the optimized solution with said data that he did. You can see above what foods make up our. We have Wheat Flour, Liver, Cabbage, Spinach, and Navy Beans. None of which sound appealing, but apparently are best and cheapest for us."
   ]
  },
  {
   "cell_type": "code",
   "execution_count": 11,
   "metadata": {},
   "outputs": [],
   "source": [
    "# print(food_cost[30:32,:])"
   ]
  },
  {
   "cell_type": "code",
   "execution_count": 10,
   "metadata": {},
   "outputs": [
    {
     "name": "stdout",
     "output_type": "stream",
     "text": [
      "Optimal\n",
      "\n",
      "Objective = 39.79866435040896\n",
      "\n",
      "Wheat Flour (Enriched) makes up the vegetarian diet\n",
      "Evaporated Milk (can) makes up the vegetarian diet\n",
      "Cabbage makes up the vegetarian diet\n",
      "Spinach makes up the vegetarian diet\n",
      "Navy Beans, Dried makes up the vegetarian diet\n"
     ]
    }
   ],
   "source": [
    "using JuMP, Clp\n",
    "\n",
    "vegetarian = Model(solver=ClpSolver())\n",
    "@variable(vegetarian, money_spent[1:size(foods,1)] >= 0)               # Money spent on each food\n",
    "@variable(vegetarian, food_cost[1:size(foods,1), 1:size(nutrients,1)]) # Nutrition cost\n",
    "\n",
    "# Vegetarian food\n",
    "@constraint(vegetarian, food_cost[30:40,:] .== 0)                      # From Liver until Salmon needs to be removed\n",
    "\n",
    "# Get the nutrition cost\n",
    "for i in 1:size(foods,1)\n",
    "    @constraint(vegetarian, food_cost[i,:] .== nut_data[i,:]*money_spent[i])\n",
    "end\n",
    "\n",
    "# Nutient needs to be >= zero\n",
    "for j in 1:size(nutrients,1)\n",
    "    @constraint(vegetarian, sum(food_cost[:,j]) >= min_require[j])\n",
    "end\n",
    "    \n",
    "@objective(vegetarian, Min, sum(money_spent))                          # Minimize the price\n",
    "\n",
    "status = solve(vegetarian)\n",
    "\n",
    "println(status)\n",
    "println()\n",
    "println(\"Objective = \", getobjectivevalue(vegetarian) * 365 )\n",
    "println()\n",
    "\n",
    "for i in 1:size(foods,1)\n",
    "    if(getvalue(money_spent[i]) > 0)\n",
    "        println(foods[i],\" makes up the vegetarian diet\")\n",
    "    end\n",
    "end\n",
    "\n"
   ]
  },
  {
   "cell_type": "markdown",
   "metadata": {},
   "source": [
    "### Question Two\n",
    "\n",
    "We are asked now assume we are Vegetarian, and make a diet from that. Our diet reamains the same, minus that we now include Evaporated Milk and replace Liver. The total cost is actually *more* expensive than if you were to consume all food. "
   ]
  },
  {
   "cell_type": "code",
   "execution_count": null,
   "metadata": {},
   "outputs": [],
   "source": []
  }
 ],
 "metadata": {
  "kernelspec": {
   "display_name": "Julia 1.0.3",
   "language": "julia",
   "name": "julia-1.0"
  },
  "language_info": {
   "file_extension": ".jl",
   "mimetype": "application/julia",
   "name": "julia",
   "version": "1.0.3"
  }
 },
 "nbformat": 4,
 "nbformat_minor": 1
}
