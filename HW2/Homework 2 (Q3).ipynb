{
 "cells": [
  {
   "cell_type": "markdown",
   "metadata": {},
   "source": [
    "## Question Three"
   ]
  },
  {
   "cell_type": "markdown",
   "metadata": {},
   "source": [
    "#### Part One"
   ]
  },
  {
   "cell_type": "markdown",
   "metadata": {},
   "source": [
    "We are asked to make and evaluate a series of Linear Programs : Consider a road divided into n segments illuminated by\n",
    "m lamps.\n",
    "Let $p_{j}$ be the power of the jth lamp. The illumination I i on the ith segment is determined by\n",
    "$I_{i} \\sum_{j=1}^{m} a_{ij} p_{j}$,where $a_{ij}$ are known, non-negative parameters that describe the relationship between\n",
    "the amount of power and the strength of illumination. Let $I_{i}$ min be the minimum required illumination\n",
    "of road i. We are interested in choosing the lamp powers $p_{j}$ which minimize the total power usage\n",
    "along the road.\n",
    "\n",
    "Initial thought process of this is to set up a matrix where each [ i ][ j ] square respents a lamp, and each row is a segment. Now, we must consider a system in which the square [ i +1 ][ j +1 ] needs to be lit. "
   ]
  },
  {
   "cell_type": "markdown",
   "metadata": {},
   "source": [
    "\\begin{bmatrix} A & \\cdots & a_{mn} \\\\ \\vdots & \\ddots & \\vdots \\\\ a_{mn}  & \\cdots & B \\end{bmatrix}"
   ]
  },
  {
   "cell_type": "markdown",
   "metadata": {},
   "source": [
    "Let's assume we start at \"A\" and are trying to illuminate all lamps from A to B. Therefore, we split the matrix in half. \n",
    "\\begin{bmatrix} A & \\cdots & a_{mn} \\\\  & \\ddots & \\vdots \\\\ a_{mn}  & & B \\end{bmatrix}"
   ]
  },
  {
   "cell_type": "markdown",
   "metadata": {},
   "source": [
    "We essentially look to make this a Divide and Conqueror problem. We know that the total power ( $p_{j}$ ) denotes all power needed to go from A to B, so we know that is we are to minimize the total power of this system then:\n",
    "    0 <= $p_{j}^{min}$ <= $p_{j}$."
   ]
  },
  {
   "cell_type": "markdown",
   "metadata": {},
   "source": [
    "The problem also specifies we should look to maximize illumination of the lamps [with the smallest amount of power used]. We are given the summation notation forumla that informs us of the relationship between a (illumination) and p (power). So, we can infer that: 0 <= $I_{i}^{min} \\sum_{j=1}^{m} a_{ij} p_{j}$ <= $I_{i} \\sum_{j=1}^{m} a_{ij} p_{j}$ which represents this max illumination with as little power. "
   ]
  },
  {
   "cell_type": "markdown",
   "metadata": {},
   "source": [
    "##### Final Soution"
   ]
  },
  {
   "cell_type": "markdown",
   "metadata": {},
   "source": [
    "maximize: 0 <= $I_{i}^{min} \\sum_{j=1}^{m} a_{ij}^{min} p_{j}^{min}$\n",
    "\n",
    "subject to:\n",
    "0 <= $p_{j}^{min}$ <= $p_{j}$."
   ]
  },
  {
   "cell_type": "markdown",
   "metadata": {},
   "source": [
    "#### Part Two"
   ]
  },
  {
   "cell_type": "markdown",
   "metadata": {},
   "source": [
    "If we maximize power instead of putting constraints on it, we essentially achieve \"unlimited power\". Though is sounds silly, there are no constraints to inhibit it in our base question, and therefore, all lamps can be lit all the time with maximum illumination. If instead of minimizing we maximize our power, we look to link as many segments (n) with as many lamps (m). "
   ]
  },
  {
   "cell_type": "markdown",
   "metadata": {},
   "source": [
    "#### Part Three"
   ]
  },
  {
   "cell_type": "markdown",
   "metadata": {},
   "source": [
    "We define a strict inequality as an inequality that does not have any \"equals\" partitions. All statements are either less than or greater than. Therefore, if we made our statements above as strict inequality it can be argued that would get an even more ideal solution. As it stands right now, our linear program *could* have $p_{j}^{min}$ == $p_{j}$, thus we would not be minimizing our power usage whatsoever. The same can be said for our illumination equation. Together, we would not have to think about any condition in which case the min is equal to the max. "
   ]
  },
  {
   "cell_type": "code",
   "execution_count": null,
   "metadata": {},
   "outputs": [],
   "source": []
  }
 ],
 "metadata": {
  "kernelspec": {
   "display_name": "Julia 1.0.3",
   "language": "julia",
   "name": "julia-1.0"
  },
  "language_info": {
   "file_extension": ".jl",
   "mimetype": "application/julia",
   "name": "julia",
   "version": "1.0.3"
  }
 },
 "nbformat": 4,
 "nbformat_minor": 2
}
