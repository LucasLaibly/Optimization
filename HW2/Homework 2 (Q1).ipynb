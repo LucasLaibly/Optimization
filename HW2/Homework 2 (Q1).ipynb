{
 "cells": [
  {
   "cell_type": "markdown",
   "metadata": {},
   "source": [
    "## Question One"
   ]
  },
  {
   "cell_type": "markdown",
   "metadata": {},
   "source": [
    "#### Part One"
   ]
  },
  {
   "cell_type": "markdown",
   "metadata": {},
   "source": [
    "For this problem, we were asked to do matrix manipulation to divise shapes based around a set of coordinates. For this first one, we were asked to make a cube. Below represents my work accompanied with my little Julia markdown / LaTeX knowledge. Regardless, we know the following makes the correct set as X covers -1 and 1, Y covers -1 and 1, and Z also coves -1 and 1. Thus making a regular cube. "
   ]
  },
  {
   "cell_type": "code",
   "execution_count": 18,
   "metadata": {
    "scrolled": true
   },
   "outputs": [
    {
     "data": {
      "text/plain": [
       "0-element Array{Any,1}"
      ]
     },
     "execution_count": 18,
     "metadata": {},
     "output_type": "execute_result"
    }
   ],
   "source": [
    "X = [1 0 0; -1 0 0; 0 1 0; 0 -1 0; 0 0 1; 0 0 -1]\n",
    "Y = [1; 1; 1; 1; 1; 1]\n",
    "Z = []"
   ]
  },
  {
   "cell_type": "code",
   "execution_count": 2,
   "metadata": {},
   "outputs": [
    {
     "data": {
      "text/latex": [
       "$\\begin{bmatrix}{ 1 } & { 0 } & { 0 } \\\\ { - 1 } & { 0 } & { 0 } \\\\ { 0 } & { 1 } & { 0 } \\\\ { 0 } & { - 1 } & { 0 } \\\\ \n",
       "{ 0 } & { 0 } & { 1 } \\\\ { 0 } & { 0 } & { - 1 } \\end {bmatrix} \n",
       "\\times \n",
       "\\begin {bmatrix}{ 1 } \\\\ { 1 } \\\\ { 1 } \\\\ { 1 } \\\\ { 1 } \\\\ { 1 } \\end {bmatrix}$"
      ],
      "text/plain": [
       "L\"$\\begin{bmatrix}{ 1 } & { 0 } & { 0 } \\\\ { - 1 } & { 0 } & { 0 } \\\\ { 0 } & { 1 } & { 0 } \\\\ { 0 } & { - 1 } & { 0 } \\\\ \n",
       "{ 0 } & { 0 } & { 1 } \\\\ { 0 } & { 0 } & { - 1 } \\end {bmatrix} \n",
       "\\times \n",
       "\\begin {bmatrix}{ 1 } \\\\ { 1 } \\\\ { 1 } \\\\ { 1 } \\\\ { 1 } \\\\ { 1 } \\end {bmatrix}$\""
      ]
     },
     "execution_count": 2,
     "metadata": {},
     "output_type": "execute_result"
    }
   ],
   "source": [
    "using LaTeXStrings\n",
    "L\"\\begin{bmatrix}{ 1 } & { 0 } & { 0 } \\\\ { - 1 } & { 0 } & { 0 } \\\\ { 0 } & { 1 } & { 0 } \\\\ { 0 } & { - 1 } & { 0 } \\\\ \n",
    "{ 0 } & { 0 } & { 1 } \\\\ { 0 } & { 0 } & { - 1 } \\end {bmatrix} \n",
    "\\times \n",
    "\\begin {bmatrix}{ 1 } \\\\ { 1 } \\\\ { 1 } \\\\ { 1 } \\\\ { 1 } \\\\ { 1 } \\end {bmatrix}\""
   ]
  },
  {
   "cell_type": "markdown",
   "metadata": {},
   "source": [
    "#### Part Two"
   ]
  },
  {
   "cell_type": "markdown",
   "metadata": {},
   "source": [
    "For the second part, we were asked to make a regular octahedron. Below represents my work accompanied with my little Julia markdown / LaTeX knowledge. Regardless, we know the following makes the correct set as X covers -1 and 1, Y covers -1 and 1, and Z also coves -1 and 1. Thus making a regular octahedron, which spans over the correct set of values we were asked to. "
   ]
  },
  {
   "cell_type": "code",
   "execution_count": 20,
   "metadata": {},
   "outputs": [
    {
     "data": {
      "text/plain": [
       "0-element Array{Any,1}"
      ]
     },
     "execution_count": 20,
     "metadata": {},
     "output_type": "execute_result"
    }
   ],
   "source": [
    "X = [1 1 1; 1 1 -1; 1 -1 1; 1 -1 -1; -1 1 1; -1 1 -1; 1 1 1; 1 1 1]\n",
    "Y = [1; 1; 1; 1; 1; 1; 1; 1]\n",
    "Z =[]"
   ]
  },
  {
   "cell_type": "code",
   "execution_count": 21,
   "metadata": {},
   "outputs": [
    {
     "data": {
      "text/latex": [
       "$\\begin{bmatrix}{ 1 } & { 1 } & { 1 } \\\\ { 1 } & { 1 } & { -1 } \\\\ { 1 } & { -1 } & { 1 } \\\\ { 1 } & { - 1 } & { -1 } \\\\ \n",
       "{ -1 } & { 1 } & { 1 } \\\\ { -1 } & { 1 } & { - 1 } \\\\ { -1 } & { -1 } & { 1 } \\\\ { -1 } & { -1 } & { -1 } \n",
       "\\end {bmatrix} \n",
       "\\times \n",
       "\\begin {bmatrix}{ 1 } \\\\ { 1 } \\\\ { 1 } \\\\ { 1 } \\\\ { 1 } \\\\ { 1 } \\\\ { 1 } \\\\ { 1 }\\end {bmatrix}$"
      ],
      "text/plain": [
       "L\"$\\begin{bmatrix}{ 1 } & { 1 } & { 1 } \\\\ { 1 } & { 1 } & { -1 } \\\\ { 1 } & { -1 } & { 1 } \\\\ { 1 } & { - 1 } & { -1 } \\\\ \n",
       "{ -1 } & { 1 } & { 1 } \\\\ { -1 } & { 1 } & { - 1 } \\\\ { -1 } & { -1 } & { 1 } \\\\ { -1 } & { -1 } & { -1 } \n",
       "\\end {bmatrix} \n",
       "\\times \n",
       "\\begin {bmatrix}{ 1 } \\\\ { 1 } \\\\ { 1 } \\\\ { 1 } \\\\ { 1 } \\\\ { 1 } \\\\ { 1 } \\\\ { 1 }\\end {bmatrix}$\""
      ]
     },
     "execution_count": 21,
     "metadata": {},
     "output_type": "execute_result"
    }
   ],
   "source": [
    "using LaTeXStrings\n",
    "L\"\\begin{bmatrix}{ 1 } & { 1 } & { 1 } \\\\ { 1 } & { 1 } & { -1 } \\\\ { 1 } & { -1 } & { 1 } \\\\ { 1 } & { - 1 } & { -1 } \\\\ \n",
    "{ -1 } & { 1 } & { 1 } \\\\ { -1 } & { 1 } & { - 1 } \\\\ { -1 } & { -1 } & { 1 } \\\\ { -1 } & { -1 } & { -1 } \n",
    "\\end {bmatrix} \n",
    "\\times \n",
    "\\begin {bmatrix}{ 1 } \\\\ { 1 } \\\\ { 1 } \\\\ { 1 } \\\\ { 1 } \\\\ { 1 } \\\\ { 1 } \\\\ { 1 }\\end {bmatrix}\""
   ]
  },
  {
   "cell_type": "markdown",
   "metadata": {},
   "source": []
  }
 ],
 "metadata": {
  "kernelspec": {
   "display_name": "Julia 1.0.3",
   "language": "julia",
   "name": "julia-1.0"
  },
  "language_info": {
   "file_extension": ".jl",
   "mimetype": "application/julia",
   "name": "julia",
   "version": "1.0.3"
  }
 },
 "nbformat": 4,
 "nbformat_minor": 2
}
