{
 "cells": [
  {
   "cell_type": "markdown",
   "metadata": {},
   "source": [
    "## Question Two"
   ]
  },
  {
   "cell_type": "markdown",
   "metadata": {},
   "source": [
    "For question two we were asked to solve a set of linear programs before transforming it to Standard Form as well as post transforming it to Standard Form. The following represents exactly that. We begin by solving for it with no transformation, this allows us to see what the optimal solution objective results to, as well all the varying Z's and what they equate to."
   ]
  },
  {
   "cell_type": "markdown",
   "metadata": {},
   "source": [
    "### Pre Transformation to Standard Form"
   ]
  },
  {
   "cell_type": "code",
   "execution_count": 4,
   "metadata": {},
   "outputs": [
    {
     "data": {
      "text/latex": [
       "$$ \\begin{alignat*}{1}\\max\\quad & 3 z1 - z2\\\\\n",
       "\\text{Subject to} \\quad & -z1 + 6 z2 - z3 + z4 \\geq -3\\\\\n",
       " & 7 z2 + z4 = 5\\\\\n",
       " & z3 + z4 \\leq 2\\\\\n",
       " & z1\\\\\n",
       " & -1 \\leq z2 \\leq 5\\\\\n",
       " & -1 \\leq z3 \\leq 5\\\\\n",
       " & -2 \\leq z4 \\leq 2\\\\\n",
       "\\end{alignat*}\n",
       " $$"
      ],
      "text/plain": [
       "Maximization problem with:\n",
       " * 3 linear constraints\n",
       " * 4 variables\n",
       "Solver is Clp"
      ]
     },
     "execution_count": 4,
     "metadata": {},
     "output_type": "execute_result"
    }
   ],
   "source": [
    "using JuMP, Clp\n",
    "\n",
    "original = Model(solver=ClpSolver())\n",
    "@variable(original, z1)\n",
    "@variable(original, -1 <= z2 <= 5 )\n",
    "@variable(original, -1 <= z3 <= 5 )\n",
    "@variable(original, -2 <= z4 <= 2 )\n",
    "@constraint(original, -z1 + 6z2 - z3 + z4 >= -3 )\n",
    "@constraint(original, 7z2 + z4 == 5)\n",
    "@constraint(original, z3 + z4 <= 2)\n",
    "@objective(original, Max, 3z1 - z2 )\n",
    "\n",
    "original"
   ]
  },
  {
   "cell_type": "code",
   "execution_count": 9,
   "metadata": {
    "scrolled": true
   },
   "outputs": [
    {
     "name": "stdout",
     "output_type": "stream",
     "text": [
      "Original problem formulation\n",
      "Max 3 z1 - z2\n",
      "Subject to\n",
      " -z1 + 6 z2 - z3 + z4 ≥ -3\n",
      " 7 z2 + z4 = 5\n",
      " z3 + z4 ≤ 2\n",
      " z1\n",
      " -1 ≤ z2 ≤ 5\n",
      " -1 ≤ z3 ≤ 5\n",
      " -2 ≤ z4 ≤ 2\n",
      "\n",
      "Optimal\n",
      "\n",
      "z1 = 8.571428571428571\n",
      "z2 = 0.42857142857142855\n",
      "z3 = -1.0\n",
      "z4 = 2.0\n",
      "Objective = 25.28571428571429\n",
      "\n",
      "\n"
     ]
    }
   ],
   "source": [
    "println(\"Original problem formulation\")\n",
    "\n",
    "status = solve(original)\n",
    "\n",
    "println(original)\n",
    "println(status)\n",
    "println()\n",
    "println(\"z1 = \", getvalue(z1) )\n",
    "println(\"z2 = \", getvalue(z2) )\n",
    "println(\"z3 = \", getvalue(z3) )\n",
    "println(\"z4 = \", getvalue(z4) )\n",
    "println(\"Objective = \", getobjectivevalue(original) )\n",
    "println()\n",
    "println()"
   ]
  },
  {
   "cell_type": "markdown",
   "metadata": {},
   "source": [
    "###### Here we can see that the solution is optimal, what each Z value is, and what the final Objective is equal to. We can now begin our work in transforming the above to Standard Form."
   ]
  },
  {
   "cell_type": "markdown",
   "metadata": {},
   "source": [
    "### Post Transformation to Standard Form"
   ]
  },
  {
   "cell_type": "code",
   "execution_count": 6,
   "metadata": {},
   "outputs": [
    {
     "data": {
      "text/latex": [
       "$$ \\begin{alignat*}{1}\\min\\quad & -3 u + 3 v + w - 1\\\\\n",
       "\\text{Subject to} \\quad & -u + v + 6 w - i + j - s1 = 4\\\\\n",
       " & 7 w + j = 14\\\\\n",
       " & i + j + s2 = 5\\\\\n",
       " & w + s3 = 6\\\\\n",
       " & i + s4 = 6\\\\\n",
       " & j + s5 = 4\\\\\n",
       " & s1 \\geq 0\\\\\n",
       " & s2 \\geq 0\\\\\n",
       " & s3 \\geq 0\\\\\n",
       " & s4 \\geq 0\\\\\n",
       " & s5 \\geq 0\\\\\n",
       " & u \\geq 0\\\\\n",
       " & v \\geq 0\\\\\n",
       " & w \\geq 0\\\\\n",
       " & i \\geq 0\\\\\n",
       " & j \\geq 0\\\\\n",
       "\\end{alignat*}\n",
       " $$"
      ],
      "text/plain": [
       "Minimization problem with:\n",
       " * 6 linear constraints\n",
       " * 10 variables\n",
       "Solver is Clp"
      ]
     },
     "execution_count": 6,
     "metadata": {},
     "output_type": "execute_result"
    }
   ],
   "source": [
    "using JuMP, Clp\n",
    "\n",
    "standard = Model(solver=ClpSolver())\n",
    "@variable(standard, s1 >= 0)\n",
    "@variable(standard, s2 >= 0)\n",
    "@variable(standard, s3 >= 0)\n",
    "@variable(standard, s4 >= 0)\n",
    "@variable(standard, s5 >= 0)\n",
    "@variable(standard, u >= 0 )\n",
    "@variable(standard, v >= 0 )\n",
    "@variable(standard, w >= 0 )\n",
    "@variable(standard, i >= 0 )\n",
    "@variable(standard, j >= 0 )\n",
    "@constraint(standard, -(u-v)+6(w-1)-(i-1)+(j-2)-s1 == -3 )\n",
    "@constraint(standard, 7(w-1)+(j-2) == 5 )\n",
    "@constraint(standard, (i-1)+(j-2)+s2 == 2)\n",
    "@constraint(standard, w+s3 == 6)\n",
    "@constraint(standard, i+s4 == 6)\n",
    "@constraint(standard, j+s5 == 4)\n",
    "@objective(standard, Min, -3(u-v) + (w-1) )\n",
    "\n",
    "standard"
   ]
  },
  {
   "cell_type": "markdown",
   "metadata": {},
   "source": [
    "We begin by implementing S1, S2, and S3. These are noted as slack variables. They hold what would be equal to moving all variables and numbers to a single side. By reintroducing them, they allow us to set each program as == and not <= or >=. All that is left to do is see if we have found an optimal solution."
   ]
  },
  {
   "cell_type": "code",
   "execution_count": 10,
   "metadata": {},
   "outputs": [
    {
     "name": "stdout",
     "output_type": "stream",
     "text": [
      "Original problem formulation\n",
      "Min -3 u + 3 v + w - 1\n",
      "Subject to\n",
      " -u + v + 6 w - i + j - s1 = 4\n",
      " 7 w + j = 14\n",
      " i + j + s2 = 5\n",
      " w + s3 = 6\n",
      " i + s4 = 6\n",
      " j + s5 = 4\n",
      " s1 ≥ 0\n",
      " s2 ≥ 0\n",
      " s3 ≥ 0\n",
      " s4 ≥ 0\n",
      " s5 ≥ 0\n",
      " u ≥ 0\n",
      " v ≥ 0\n",
      " w ≥ 0\n",
      " i ≥ 0\n",
      " j ≥ 0\n",
      "\n",
      "Optimal\n",
      "\n",
      "z1 = 8.571428571428571\n",
      "z2 = 0.42857142857142855\n",
      "z3 = -1.0\n",
      "z4 = 2.0\n",
      "Objective = 25.285714285714292\n",
      "\n",
      "\n"
     ]
    }
   ],
   "source": [
    "println(\"Original problem formulation\")\n",
    "\n",
    "status = solve(standard)\n",
    "\n",
    "println(standard)\n",
    "println(status)\n",
    "println()\n",
    "println(\"z1 = \", getvalue(z1) )\n",
    "println(\"z2 = \", getvalue(z2) )\n",
    "println(\"z3 = \", getvalue(z3) )\n",
    "println(\"z4 = \", getvalue(z4) )\n",
    "println(\"Objective = \", -getobjectivevalue(standard) )\n",
    "println()\n",
    "println()"
   ]
  },
  {
   "cell_type": "markdown",
   "metadata": {},
   "source": [
    "#### The two linear programs are both optimal, and result in the same values. We have correctly solved the problem. "
   ]
  },
  {
   "cell_type": "code",
   "execution_count": null,
   "metadata": {},
   "outputs": [],
   "source": []
  }
 ],
 "metadata": {
  "kernelspec": {
   "display_name": "Julia 1.0.3",
   "language": "julia",
   "name": "julia-1.0"
  },
  "language_info": {
   "file_extension": ".jl",
   "mimetype": "application/julia",
   "name": "julia",
   "version": "1.0.3"
  }
 },
 "nbformat": 4,
 "nbformat_minor": 2
}
