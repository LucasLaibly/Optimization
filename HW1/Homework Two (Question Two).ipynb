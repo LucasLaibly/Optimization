{
 "cells": [
  {
   "cell_type": "markdown",
   "metadata": {},
   "source": [
    "# Homework Two: Linear Programs"
   ]
  },
  {
   "cell_type": "markdown",
   "metadata": {},
   "source": [
    "### Question One"
   ]
  },
  {
   "cell_type": "markdown",
   "metadata": {},
   "source": [
    "Story Problem : Farmer Jane owns 45 acres of land. She is going to plant each with wheat or corn. Each acre planted with wheat yields 230 profit; each with corn yields 190 profit. The labor and fertilizer used for each acre are given in the table below. 100 workers and 130 tons of fertilizer areavailable."
   ]
  },
  {
   "cell_type": "markdown",
   "metadata": {},
   "source": [
    "## Expanded solution\n",
    "#### Problem Data"
   ]
  },
  {
   "cell_type": "code",
   "execution_count": 1,
   "metadata": {},
   "outputs": [
    {
     "data": {
      "text/latex": [
       "$$ \\begin{alignat*}{1}\\max\\quad & 230 wheat + 190 corn\\\\\n",
       "\\text{Subject to} \\quad & wheat + corn \\leq 45\\\\\n",
       " & 3 wheat + 2 corn \\leq 100\\\\\n",
       " & 2 wheat + 4 corn \\leq 130\\\\\n",
       " & wheat \\geq 0\\\\\n",
       " & corn \\geq 0\\\\\n",
       "\\end{alignat*}\n",
       " $$"
      ],
      "text/plain": [
       "Maximization problem with:\n",
       " * 3 linear constraints\n",
       " * 2 variables\n",
       "Solver is Clp"
      ]
     },
     "execution_count": 1,
     "metadata": {},
     "output_type": "execute_result"
    }
   ],
   "source": [
    "using JuMP, Clp\n",
    "\n",
    "m = Model(solver = ClpSolver())\n",
    "\n",
    "@variable(m, wheat >= 0)                  # wheat\n",
    "@variable(m, corn >= 0)                   # corn\n",
    "\n",
    "@constraint(m, wheat + corn <= 45)        # total land to work on\n",
    "@constraint(m, 3wheat + 2corn <= 100)     # total number of labor\n",
    "@constraint(m, 2wheat + 4corn <= 130)     # total amount of fertilizer\n",
    "\n",
    "@objective(m, Max, 230wheat + 190corn)    # maximize profit\n",
    "\n",
    "m"
   ]
  },
  {
   "cell_type": "markdown",
   "metadata": {},
   "source": [
    "#### Problem Model"
   ]
  },
  {
   "cell_type": "code",
   "execution_count": 2,
   "metadata": {},
   "outputs": [
    {
     "name": "stdout",
     "output_type": "stream",
     "text": [
      "Max 230 wheat + 190 corn\n",
      "Subject to\n",
      " wheat + corn ≤ 45\n",
      " 3 wheat + 2 corn ≤ 100\n",
      " 2 wheat + 4 corn ≤ 130\n",
      " wheat ≥ 0\n",
      " corn ≥ 0\n",
      "\n",
      "Optimal\n"
     ]
    }
   ],
   "source": [
    "println(m)\n",
    "status = solve(m)\n",
    "println(status)"
   ]
  },
  {
   "cell_type": "code",
   "execution_count": 3,
   "metadata": {
    "scrolled": true
   },
   "outputs": [
    {
     "name": "stdout",
     "output_type": "stream",
     "text": [
      "Acres of Wheat:17.499999999999993\n",
      "Acres of Corn: 23.750000000000004\n",
      "Total profit: $8537.5\n"
     ]
    }
   ],
   "source": [
    "using JuMP\n",
    "println(\"Acres of Wheat:\" , getvalue(wheat))\n",
    "println(\"Acres of Corn: \" , getvalue(corn))\n",
    "\n",
    "profit = (230 * wheat) + (190 * corn)\n",
    "println(\"Total profit: \\$\", getvalue(profit))"
   ]
  },
  {
   "cell_type": "markdown",
   "metadata": {},
   "source": [
    "##### The ideal solution, and one I would recommend, is to cover 17.5 acres with Wheat and 23.75 acres of Corn. This will produce the optimal profit (highest return) for Farmer Jane."
   ]
  },
  {
   "cell_type": "markdown",
   "metadata": {},
   "source": [
    "##### 2b. Solve in a different method."
   ]
  },
  {
   "cell_type": "code",
   "execution_count": 1,
   "metadata": {},
   "outputs": [],
   "source": [
    "# the types of produce\n",
    "product = [:wheat, :corn]\n",
    "\n",
    "# fertilizer required for each type of prodcut\n",
    "fert   = Dict( :wheat => 2, :corn => 4)\n",
    "\n",
    "# labor required for each type of product\n",
    "labor = Dict( :wheat => 3, :corn => 2)\n",
    "\n",
    "# acres required for each crop --- not sure if I actually need this, do not think so ::TODO::\n",
    "acres = Dict( :wheat => 1, :corn => 1)\n",
    "\n",
    "# profit made for each product\n",
    "profit = Dict( :wheat => 230, :corn => 190)\n",
    "\n",
    "# quantities in stock for each ingredient\n",
    "num_fert     = 130\n",
    "num_labor    = 100\n",
    "num_acres    = 45\n",
    ";"
   ]
  },
  {
   "cell_type": "code",
   "execution_count": 2,
   "metadata": {},
   "outputs": [
    {
     "name": "stdout",
     "output_type": "stream",
     "text": [
      "crop: 1 dimensions:\n",
      "[wheat] = 17.499999999999993\n",
      "[ corn] = 23.750000000000004\n",
      "Total profit will be $8537.5\n",
      "Fertilizer needed: 130.0\n",
      "Acres used: 41.25\n",
      "People needed: 99.99999999999999\n"
     ]
    }
   ],
   "source": [
    "using JuMP, Clp\n",
    "m = Model(solver = ClpSolver())\n",
    "\n",
    "@variable(m, crop[product] >= 0 )    # \"crop\" is a dictionary indexed over product\n",
    "\n",
    "@expression(m, tot_labor,   sum(crop[i] * labor[i]   for i in product) )\n",
    "@expression(m, tot_fert,    sum(crop[i] * fert[i]    for i in product) )\n",
    "@expression(m, tot_acres,   sum(crop[i] * acres[i]    for i in product) )\n",
    "@expression(m, tot_profit,  sum(crop[i] * profit[i]  for i in product) )\n",
    "\n",
    "@constraint(m, crop[:wheat] <= num_acres )      # maximum number of wheat that can be produced \n",
    "@constraint(m, crop[:corn]  <= num_acres )      # maximum number of corn that can be produced \n",
    "@constraint(m, tot_labor    <= num_labor )      # maximum number of labor needed\n",
    "@constraint(m, tot_fert     <= num_fert )       # maximum number of fertilizer needed\n",
    "\n",
    "@objective(m, Max, tot_profit)\n",
    "\n",
    "solve(m)\n",
    "println(getvalue(crop))\n",
    "println(\"Total profit will be \\$\", getvalue(tot_profit))\n",
    "println(\"Fertilizer needed: \", getvalue(tot_fert))\n",
    "println(\"Acres used: \", getvalue(tot_acres))\n",
    "println(\"People needed: \", getvalue(tot_labor))"
   ]
  },
  {
   "cell_type": "markdown",
   "metadata": {},
   "source": [
    "##### As we can see here, the two values are identical. Therefore, I feel confident saying that I have found the correct answer. The recommendation remains to cover 17.5 acres with Wheat, and 23.75 acres of Corn. "
   ]
  },
  {
   "cell_type": "code",
   "execution_count": null,
   "metadata": {},
   "outputs": [],
   "source": []
  }
 ],
 "metadata": {
  "kernelspec": {
   "display_name": "Julia 1.0.3",
   "language": "julia",
   "name": "julia-1.0"
  },
  "language_info": {
   "file_extension": ".jl",
   "mimetype": "application/julia",
   "name": "julia",
   "version": "1.0.3"
  }
 },
 "nbformat": 4,
 "nbformat_minor": 2
}
