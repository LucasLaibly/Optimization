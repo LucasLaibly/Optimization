{
 "cells": [
  {
   "cell_type": "markdown",
   "metadata": {},
   "source": [
    "# Homework One : Linear Programs"
   ]
  },
  {
   "cell_type": "markdown",
   "metadata": {},
   "source": [
    "### Question One"
   ]
  },
  {
   "cell_type": "markdown",
   "metadata": {},
   "source": [
    "###### 1a. Given the choice of solvers Clp, ECOS, and SCS, which one would you choose and why?\n",
    "\n",
    "I would choose to use Clp. The reason for this is because our given set equations we are looking to optimize does not have a terribly large set of values to work with. Because of this, we are working with a more specialized set of values and therefore we can put more emphasis on speed. We know that SCS is not quite as fast, but Clp does beat out ECOS. We want to acheive a fast solver that can run through specalized values. "
   ]
  },
  {
   "cell_type": "markdown",
   "metadata": {},
   "source": [
    "###### 1b. What is the optimal objective value? What is the optimal solution for the variables $x_{1}$, $x_{2}$? In the following problem I have renamed $x_{1}$, $x_{2}$ to being A and B respectively. "
   ]
  },
  {
   "cell_type": "code",
   "execution_count": 35,
   "metadata": {
    "scrolled": true
   },
   "outputs": [
    {
     "data": {
      "text/latex": [
       "$$ \\begin{alignat*}{1}\\max\\quad & 5 A - B\\\\\n",
       "\\text{Subject to} \\quad & 2 A + B \\leq 5\\\\\n",
       " & A + B \\geq 2\\\\\n",
       " & 0 \\leq A \\leq 3\\\\\n",
       " & 0 \\leq B \\leq 3\\\\\n",
       "\\end{alignat*}\n",
       " $$"
      ],
      "text/plain": [
       "Maximization problem with:\n",
       " * 2 linear constraints\n",
       " * 2 variables\n",
       "Solver is Clp"
      ]
     },
     "execution_count": 35,
     "metadata": {},
     "output_type": "execute_result"
    }
   ],
   "source": [
    "using JuMP, Clp\n",
    "\n",
    "m = Model(solver = ClpSolver())\n",
    "\n",
    "@variable(m, 0 <= A <= 3) \n",
    "@variable(m, 0 <= B <= 3)\n",
    "\n",
    "@constraint(m, 2(A) + B <= 5)                  \n",
    "@constraint(m, A + B >= 2)                   \n",
    "\n",
    "@objective(m, Max, 5(A)- B)                 # maximize\n",
    "\n",
    "m"
   ]
  },
  {
   "cell_type": "code",
   "execution_count": 39,
   "metadata": {},
   "outputs": [
    {
     "name": "stdout",
     "output_type": "stream",
     "text": [
      "Max 5 A - B\n",
      "Subject to\n",
      " 2 A + B ≤ 5\n",
      " A + B ≥ 2\n",
      " 0 ≤ A ≤ 3\n",
      " 0 ≤ B ≤ 3\n",
      "\n",
      "Optimal\n",
      "2.5\n",
      "0.0\n"
     ]
    }
   ],
   "source": [
    "println(m)\n",
    "status = solve(m)\n",
    "println(status)\n",
    "println(getvalue(A))\n",
    "println(getvalue(B))"
   ]
  },
  {
   "cell_type": "markdown",
   "metadata": {},
   "source": [
    "###### 1 b/c. The optimal solution to an optimization problem is given by the values of the decision variables that attain the maximum (or minimum) value of the objective function over the feasible  region. In this system of equations, our optimal objective value and solution is where       $x_{1}$ (A) = 2.5 and $x_{2}$ (B) = 0.0. "
   ]
  },
  {
   "cell_type": "markdown",
   "metadata": {},
   "source": [
    "###### 1d. What happens if you set the right hand side constant in the first inequality constraint to 0 so the constraint becomes 2$x_{1}$ + $x_{2}$ <= 0)? Is the solution you obtain still optimal?"
   ]
  },
  {
   "cell_type": "code",
   "execution_count": 3,
   "metadata": {
    "scrolled": true
   },
   "outputs": [
    {
     "data": {
      "text/latex": [
       "$$ \\begin{alignat*}{1}\\max\\quad & 5 A - B\\\\\n",
       "\\text{Subject to} \\quad & 2 A + B \\leq 0\\\\\n",
       " & A + B \\geq 2\\\\\n",
       " & 0 \\leq A \\leq 3\\\\\n",
       " & 0 \\leq B \\leq 3\\\\\n",
       "\\end{alignat*}\n",
       " $$"
      ],
      "text/plain": [
       "Maximization problem with:\n",
       " * 2 linear constraints\n",
       " * 2 variables\n",
       "Solver is Clp"
      ]
     },
     "execution_count": 3,
     "metadata": {},
     "output_type": "execute_result"
    }
   ],
   "source": [
    "using JuMP, Clp\n",
    "\n",
    "m = Model(solver = ClpSolver())\n",
    "\n",
    "@variable(m, 0 <= A <= 3) \n",
    "@variable(m, 0 <= B <= 3)\n",
    "\n",
    "@constraint(m, 2(A) + B <= 0)                  \n",
    "@constraint(m, A + B >= 2)                   \n",
    "\n",
    "@objective(m, Max, 5(A)- B)                 # maximize\n",
    "\n",
    "m"
   ]
  },
  {
   "cell_type": "code",
   "execution_count": 4,
   "metadata": {},
   "outputs": [
    {
     "name": "stdout",
     "output_type": "stream",
     "text": [
      "Max 5 A - B\n",
      "Subject to\n",
      " 2 A + B ≤ 0\n",
      " A + B ≥ 2\n",
      " 0 ≤ A ≤ 3\n",
      " 0 ≤ B ≤ 3\n",
      "\n",
      "Infeasible\n"
     ]
    },
    {
     "name": "stderr",
     "output_type": "stream",
     "text": [
      "┌ Warning: Not solved to optimality, status: Infeasible\n",
      "└ @ JuMP /home/laibly/.julia/packages/JuMP/PbnIJ/src/solvers.jl:212\n"
     ]
    }
   ],
   "source": [
    "println(m)\n",
    "status = solve(m)\n",
    "println(status)"
   ]
  },
  {
   "cell_type": "markdown",
   "metadata": {},
   "source": [
    "Answer : As you can see, the result of setting 2A + B <= 0 instead of 5 results in the system of equations is evaluated to \"infeasible\", and therefore obviously not optimal in what we are looking for."
   ]
  },
  {
   "cell_type": "code",
   "execution_count": null,
   "metadata": {},
   "outputs": [],
   "source": []
  },
  {
   "cell_type": "code",
   "execution_count": null,
   "metadata": {},
   "outputs": [],
   "source": []
  }
 ],
 "metadata": {
  "kernelspec": {
   "display_name": "Julia 1.0.3",
   "language": "julia",
   "name": "julia-1.0"
  },
  "language_info": {
   "file_extension": ".jl",
   "mimetype": "application/julia",
   "name": "julia",
   "version": "1.0.3"
  }
 },
 "nbformat": 4,
 "nbformat_minor": 2
}
