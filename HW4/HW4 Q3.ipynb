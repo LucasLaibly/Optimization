{
 "cells": [
  {
   "cell_type": "markdown",
   "metadata": {},
   "source": [
    "## Question Three - Stigler again"
   ]
  },
  {
   "cell_type": "code",
   "execution_count": 1,
   "metadata": {},
   "outputs": [
    {
     "name": "stdout",
     "output_type": "stream",
     "text": [
      "The nutrient (Calories (1000)) in food (Wheat Flour (Enriched)) is 44.7\n"
     ]
    },
    {
     "name": "stderr",
     "output_type": "stream",
     "text": [
      "┌ Warning: `convert(::Type{Array}, dfr::DataFrameRow)` is deprecated, use `permutedims(Vector(dfr))` instead.\n",
      "│   caller = top-level scope at In[1]:26\n",
      "└ @ Core In[1]:26\n",
      "┌ Warning: `convert(::Type{Array}, df::AbstractDataFrame)` is deprecated, use `convert(Matrix, df)` instead.\n",
      "│   caller = top-level scope at In[1]:27\n",
      "└ @ Core In[1]:27\n"
     ]
    },
    {
     "data": {
      "text/plain": [
       "77×9 Array{Union{Missing, Float64},2}:\n",
       " 44.7  1411.0   2.0  365.0   0.0  55.4  33.3  441.0    0.0\n",
       " 11.6   418.0   0.7   54.0   0.0   3.2   1.9   68.0    0.0\n",
       " 11.8   377.0  14.4  175.0   0.0  14.4   8.8  114.0    0.0\n",
       " 11.4   252.0   0.1   56.0   0.0  13.5   2.3   68.0    0.0\n",
       " 36.0   897.0   1.7   99.0  30.9  17.4   7.9  106.0    0.0\n",
       " 28.6   680.0   0.8   80.0   0.0  10.6   1.6  110.0    0.0\n",
       " 21.2   460.0   0.6   41.0   0.0   2.0   4.8   60.0    0.0\n",
       " 25.3   907.0   5.1  341.0   0.0  37.1   8.9   64.0    0.0\n",
       " 15.0   488.0   2.5  115.0   0.0  13.8   8.5  126.0    0.0\n",
       " 12.2   484.0   2.7  125.0   0.0  13.9   6.4  160.0    0.0\n",
       " 12.4   439.0   1.1   82.0   0.0   9.9   3.0   66.0    0.0\n",
       "  8.0   130.0   0.4   31.0  18.9   2.8   3.0   17.0    0.0\n",
       " 12.5   288.0   0.5   50.0   0.0   0.0   0.0    0.0    0.0\n",
       "  ⋮                                ⋮                      \n",
       " 13.5   104.0   2.5  136.0   4.5   6.3   1.4   24.0  136.0\n",
       " 20.0  1367.0   4.2  345.0   2.9  28.7  18.4  162.0    0.0\n",
       " 17.4  1055.0   3.7  459.0   5.1  26.9  38.2   93.0    0.0\n",
       " 26.9  1691.0  11.4  792.0   0.0  38.4  24.6  217.0    0.0\n",
       "  0.0     0.0   0.0    0.0   0.0   4.0   5.1   50.0    0.0\n",
       "  0.0     0.0   0.0    0.0   0.0   0.0   2.3   42.0    0.0\n",
       "  8.7   237.0   3.0   72.0   0.0   2.0  11.9   40.0    0.0\n",
       "  8.0    77.0   1.3   39.0   0.0   0.9   3.4   14.0    0.0\n",
       " 34.9     0.0   0.0    0.0   0.0   0.0   0.0    0.0    0.0\n",
       " 14.7     0.0   0.5   74.0   0.0   0.0   0.0    5.0    0.0\n",
       "  9.0     0.0  10.3  244.0   0.0   1.9   7.5  146.0    0.0\n",
       "  6.4    11.0   0.4    7.0   0.2   0.2   0.4    3.0    0.0"
      ]
     },
     "execution_count": 1,
     "metadata": {},
     "output_type": "execute_result"
    }
   ],
   "source": [
    "# Get data\n",
    "using CSV\n",
    "\n",
    "# import Stigler's data set\n",
    "raw = CSV.read(\"stigler.csv\")\n",
    "\n",
    "# list of food\n",
    "foods = raw[2:end,1]\n",
    "\n",
    "# list of nutrients\n",
    "nutrients = [string(names(raw)[i]) for i=2:length(names(raw))]\n",
    "\n",
    "# minimum required amount of each nutrient\n",
    "boundLower = raw[1,2:end]\n",
    "\n",
    "# data[f,i] is the amount of nutrient i contained in food f \n",
    "data = raw[2:end,2:end]\n",
    "\n",
    "# Note: data is not a matrix, but a dataframe. \n",
    "# You can access individual elements as if it was a matrix:\n",
    "a = data[1,1]   # get the first element \n",
    "println(\"The nutrient ($(nutrients[1])) in food ($(foods[1])) is $a\")\n",
    "typeof(a)       # will tell you that a is a floating point number\n",
    "\n",
    "boundLower = raw[1,2:end]\n",
    "minReq = convert(Array, boundLower)\n",
    "nutriData= convert(Array, data)"
   ]
  },
  {
   "cell_type": "code",
   "execution_count": 2,
   "metadata": {},
   "outputs": [
    {
     "ename": "UndefVarError",
     "evalue": "UndefVarError: status not defined",
     "output_type": "error",
     "traceback": [
      "UndefVarError: status not defined",
      "",
      "Stacktrace:",
      " [1] top-level scope at In[2]:18"
     ]
    }
   ],
   "source": [
    "using JuMP, Clp\n",
    "\n",
    "original = Model(solver=ClpSolver())\n",
    "a = @variable(original, moneySpent[1:size(foods,1)] >= 0) # Money spent on each food\n",
    "b = @variable(original, costFood[1:size(foods,1), 1:size(nutrients,1)]) # Nutrition cost\n",
    "\n",
    "# Get the nutrition cost\n",
    "for i in 1:size(foods,1)\n",
    "    @constraint(original, costFood[i,:] .== nutriData[i,:]*moneySpent[i])\n",
    "end\n",
    "\n",
    "# Nutient needs to be >= zero\n",
    "for j in 1:size(nutrients,1)\n",
    "    @constraint(original, sum(costFood[:,j]) >= minReq[j])\n",
    "end\n",
    "    \n",
    "@objective(original, Min, sum(moneySpent))     # minimize the price\n",
    "\n",
    "println(status)\n",
    "println()\n",
    "\n",
    "status = solve(original)\n",
    "\n",
    "println(\"Objective = \", getobjectivevalue(original) * 365, \" is the cost per year.\" )\n",
    "println()\n",
    "\n",
    "println(\"Normal diet formulation:\")\n",
    "for i in 1:size(foods,1)\n",
    "    if(getvalue(moneySpent[i]) > 0)\n",
    "        println(foods[i],\" is in the optimal diet\")\n",
    "    end\n",
    "end\n",
    "\n",
    "## retrieves the cost of each food based on per nutrient\n",
    "## for i in 1:size(foods,1)\n",
    "##     println(getvalue(costFood[i,:]))\n",
    "## end"
   ]
  },
  {
   "cell_type": "markdown",
   "metadata": {},
   "source": [
    "#### Part A : We begin by trying to figure out the cost of each food in relation to our total money spent. This gives us some data to work with moving forward to solve how much should we pay for for the supplements."
   ]
  },
  {
   "cell_type": "code",
   "execution_count": 4,
   "metadata": {},
   "outputs": [
    {
     "name": "stdout",
     "output_type": "stream",
     "text": [
      "Optimal\n",
      "\n",
      "Objective = 39.66173154546625 is the cost per year.\n",
      "\n",
      "Wheat Flour (Enriched) makes up the optimal diet cost 11.0 per year\n",
      "Liver (Beef) makes up the optimal diet cost 1.0 per year\n",
      "Cabbage makes up the optimal diet cost 4.0 per year\n",
      "Spinach makes up the optimal diet cost 2.0 per year\n",
      "Navy Beans, Dried makes up the optimal diet cost 22.0 per year\n"
     ]
    }
   ],
   "source": [
    "using JuMP, Clp\n",
    "\n",
    "dualModel = Model(solver=ClpSolver())\n",
    "@variable(dualModel, λ[1:size(foods,1)] >= 0) # money spent on each food\n",
    "\n",
    "for i in 1:size(nutrients,1)\n",
    "    @constraint(dualModel, sum(λ'*nutriData[:,i]) >= minReq[i])\n",
    "end\n",
    "@objective(dualModel, Min, sum(λ))\n",
    "status = solve(dualModel)\n",
    "println(status)\n",
    "println()\n",
    "println(\"Objective = \", getobjectivevalue(dualModel) * 365, \" is the cost per year.\" )\n",
    "println()\n",
    "for i in 1:size(foods,1)\n",
    "    if(getvalue(λ[i]) > 0)\n",
    "        println(foods[i],\" makes up the optimal diet cost \", round(getvalue(λ[i])*365),\" per year\")\n",
    "    end\n",
    "end"
   ]
  },
  {
   "cell_type": "markdown",
   "metadata": {},
   "source": [
    "##### Using duality, we can determine how much we are spending per year on each food. The next goal was to break that down to how much per nutrient was spent each year. This mark was grossly missed. I am at a loss to say where, why, and how I went wrong with my code below. "
   ]
  },
  {
   "cell_type": "code",
   "execution_count": 5,
   "metadata": {
    "scrolled": true
   },
   "outputs": [
    {
     "name": "stdout",
     "output_type": "stream",
     "text": [
      "Optimal\n",
      "11.796000686327215\n",
      "[0.00404476] dollars spent on Calories (1000)\n",
      "[0.0034344] dollars spent on Protein (g)\n",
      "[0.00485437] dollars spent on Calcium (g)\n",
      "[0.00201613] dollars spent on Iron (mg)\n",
      "[0.00198389] dollars spent on Vitamin A (1000 IU)\n",
      "[0.00353635] dollars spent on Thiamine (mg)\n",
      "[0.00590551] dollars spent on Riboflavin (mg)\n",
      "[0.00358066] dollars spent on Niacin (mg)\n",
      "[0.00296173] dollars spent on Ascorbic Acid (mg)\n"
     ]
    }
   ],
   "source": [
    "using JuMP, Clp\n",
    "\n",
    "dualModel = Model(solver=ClpSolver())\n",
    "@variable(dualModel, λ[1:size(nutrients,1)] >= 0) # money spent on each nutrient per day\n",
    "\n",
    "for i in 1:size(nutrients,1)\n",
    "    @constraint(dualModel, sum(λ[i]*nutriData[:,i]) >= minReq[i])\n",
    "end\n",
    "\n",
    "@objective(dualModel, Min, sum(λ))\n",
    "status = solve(dualModel)\n",
    "println(status)\n",
    "println(getobjectivevalue(dualModel)*365)\n",
    "for i in 1:size(nutrients,1)\n",
    "    if(getvalue(λ[i]) > 0)\n",
    "        println(getvalue(λ[i,:]),\" dollars spent on \",nutrients[i])\n",
    "    end\n",
    "end"
   ]
  },
  {
   "cell_type": "markdown",
   "metadata": {},
   "source": [
    "Apparently the money required to spend each year dropped. I really do not know how else to evaluate this problem, and apparently I am still wrong with what I am trying. Regardless, I would say dont spend more than $6.00 on the supplements per year. If the daily requirment is 0.8g of calcium, and we know the values based on spending a single dollar. It would take 292 grams of calcium to meet the minimum requirement for a year (0.8 * 365). It is a near one to one ratio in dollar spent to gram of calcium. Taking 292 and dividing it by 50 (which is how many grams of calcium come in the supplements with respect to a single dollar) would be about 5.84 dollars in supplements to satisfy this. \n",
    "\n",
    "There are a lot of assumptions here and my logic is highly flawed, but I am trying to work with what I got. Thank you for your understanding. "
   ]
  },
  {
   "cell_type": "markdown",
   "metadata": {},
   "source": [
    "#### Part B\n",
    "\n",
    "#### We are given a cost for each supplement pill, and then asked for a new optimal diet plan. We need to determine how much we will save. The answer is 39.66 - 36.99 = 2.67."
   ]
  },
  {
   "cell_type": "code",
   "execution_count": 10,
   "metadata": {},
   "outputs": [
    {
     "name": "stdout",
     "output_type": "stream",
     "text": [
      "Optimal\n",
      "36.9982473745081\n",
      "Wheat Flour (Enriched) makes up the optimal diet cost 24.0 per year\n",
      "Liver (Beef) makes up the optimal diet cost 3.0 per year\n",
      "Cabbage makes up the optimal diet cost 4.0 per year\n",
      "Spinach makes up the optimal diet cost 1.0 per year\n",
      "Calcium Supplement makes up the optimal diet cost 5.0 per year\n"
     ]
    },
    {
     "name": "stderr",
     "output_type": "stream",
     "text": [
      "┌ Warning: `convert(::Type{Array}, dfr::DataFrameRow)` is deprecated, use `permutedims(Vector(dfr))` instead.\n",
      "│   caller = top-level scope at In[10]:21\n",
      "└ @ Core In[10]:21\n",
      "┌ Warning: `convert(::Type{Array}, df::AbstractDataFrame)` is deprecated, use `convert(Matrix, df)` instead.\n",
      "│   caller = top-level scope at In[10]:22\n",
      "└ @ Core In[10]:22\n"
     ]
    }
   ],
   "source": [
    "# Get data\n",
    "using JuMP, Clp\n",
    "using CSV\n",
    "\n",
    "# import Stigler's data set\n",
    "raw = CSV.read(\"stiglerWithSupp.csv\")\n",
    "\n",
    "# list of food\n",
    "foods = raw[2:end,1]\n",
    "\n",
    "# list of nutrients\n",
    "nutrients = [string(names(raw)[i]) for i=2:length(names(raw))]\n",
    "\n",
    "# minimum required amount of each nutrient\n",
    "boundLower = raw[1,2:end]\n",
    "\n",
    "# data[f,i] is the amount of nutrient i contained in food f \n",
    "data = raw[2:end,2:end]\n",
    "\n",
    "boundLower = raw[1,2:end]\n",
    "minReq = convert(Array, boundLower)\n",
    "nutriData = convert(Array, data)\n",
    "\n",
    "dualModel = Model(solver=ClpSolver())\n",
    "@variable(dualModel, λ[1:size(foods,1)] >= 0) # money spent on each food\n",
    "for i in 1:size(nutrients,1)\n",
    "    @constraint(dualModel, sum(λ'*nutriData[:,i]) >= minReq[i])\n",
    "end\n",
    "@objective(dualModel, Min, sum(λ))\n",
    "status = solve(dualModel)\n",
    "println(status)\n",
    "println(getobjectivevalue(dualModel) * 365)\n",
    "for i in 1:size(foods,1)\n",
    "    if(getvalue(λ[i]) > 0)\n",
    "        println(foods[i],\" makes up the optimal diet cost \", round(getvalue(λ[i])*365),\" per year\")\n",
    "    end\n",
    "end"
   ]
  }
 ],
 "metadata": {
  "kernelspec": {
   "display_name": "Julia 1.0.3",
   "language": "julia",
   "name": "julia-1.0"
  },
  "language_info": {
   "file_extension": ".jl",
   "mimetype": "application/julia",
   "name": "julia",
   "version": "1.0.3"
  }
 },
 "nbformat": 4,
 "nbformat_minor": 2
}
