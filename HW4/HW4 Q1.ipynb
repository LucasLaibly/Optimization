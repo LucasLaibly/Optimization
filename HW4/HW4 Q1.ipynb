{
 "cells": [
  {
   "cell_type": "markdown",
   "metadata": {},
   "source": [
    "## Question One \n",
    "\n",
    "#### Given a graph, we are to determine the max-flow as well as the min-cost based off the source, relay, and sink nodes of said graph. All to be based on the following formulation : \n",
    "\n",
    "Max C$^T$X\n",
    "\n",
    "Subject to: \n",
    "Ax = b \n",
    "\n",
    "$p_{ij} {\\leq} X_{ij} {\\leq} q_{ij}$ "
   ]
  },
  {
   "cell_type": "markdown",
   "metadata": {},
   "source": [
    "##### Part A:\n",
    "\n",
    "i. Find A for the graph (incidence matrix)\n",
    "\n",
    "ii. Define X (feasible flow)\n",
    "\n",
    "iii. Define P and Q"
   ]
  },
  {
   "cell_type": "code",
   "execution_count": 3,
   "metadata": {},
   "outputs": [
    {
     "data": {
      "text/latex": [
       "$A = \\begin{bmatrix}\n",
       "{a}&{ 1 } &  { 1 } &  { 0 } &  { 0 } &  { 0 } &  { 0 } &  { 0 } &  { 0 } \\\\ \n",
       "{b}&{ -1 } & { 0 } &  { 1 } &  { 0 } &  { 0 } &  { 0 } &  { 0 } &  { 0 } \\\\\n",
       "{c}&{ 0 } &  { -1 } &  { 0 } & { 1 } &  { 1 } &  { 0 } &  { 0 } &  { 0 } \\\\\n",
       "{d}&{ 0 } &  { 0 } & { -1 } &  { -1 } & { 0 } &  { 1 } &  { 0 } &  { 0 } \\\\\n",
       "{e}&{ 0 } &  { 0 } &  { 0 } &  { 0 } &  { -1 } &  { 0 } & { 1 } &  { 0 } \\\\\n",
       "{f}&{ 0 } &  { 0 } &  { 0 } &  { 0 } &  { 0 } & { -1 } &  { 0 } &  { 1 } \\\\\n",
       "{g}&{ 0 } &  { 0 } &  { 0 } &  { 0 } &  { 0 } &  { 0 } &  { -1 } & { 1 } \\\\\n",
       "\\end {bmatrix}$"
      ],
      "text/plain": [
       "L\"$A = \\begin{bmatrix}\n",
       "{a}&{ 1 } &  { 1 } &  { 0 } &  { 0 } &  { 0 } &  { 0 } &  { 0 } &  { 0 } \\\\ \n",
       "{b}&{ -1 } & { 0 } &  { 1 } &  { 0 } &  { 0 } &  { 0 } &  { 0 } &  { 0 } \\\\\n",
       "{c}&{ 0 } &  { -1 } &  { 0 } & { 1 } &  { 1 } &  { 0 } &  { 0 } &  { 0 } \\\\\n",
       "{d}&{ 0 } &  { 0 } & { -1 } &  { -1 } & { 0 } &  { 1 } &  { 0 } &  { 0 } \\\\\n",
       "{e}&{ 0 } &  { 0 } &  { 0 } &  { 0 } &  { -1 } &  { 0 } & { 1 } &  { 0 } \\\\\n",
       "{f}&{ 0 } &  { 0 } &  { 0 } &  { 0 } &  { 0 } & { -1 } &  { 0 } &  { 1 } \\\\\n",
       "{g}&{ 0 } &  { 0 } &  { 0 } &  { 0 } &  { 0 } &  { 0 } &  { -1 } & { 1 } \\\\\n",
       "\\end {bmatrix}$\""
      ]
     },
     "execution_count": 3,
     "metadata": {},
     "output_type": "execute_result"
    }
   ],
   "source": [
    "using LaTeXStrings\n",
    "L\"A = \\begin{bmatrix}\n",
    "{a}&{ 1 } &  { 1 } &  { 0 } &  { 0 } &  { 0 } &  { 0 } &  { 0 } &  { 0 } \\\\ \n",
    "{b}&{ -1 } & { 0 } &  { 1 } &  { 0 } &  { 0 } &  { 0 } &  { 0 } &  { 0 } \\\\\n",
    "{c}&{ 0 } &  { -1 } &  { 0 } & { 1 } &  { 1 } &  { 0 } &  { 0 } &  { 0 } \\\\\n",
    "{d}&{ 0 } &  { 0 } & { -1 } &  { -1 } & { 0 } &  { 1 } &  { 0 } &  { 0 } \\\\\n",
    "{e}&{ 0 } &  { 0 } &  { 0 } &  { 0 } &  { -1 } &  { 0 } & { 1 } &  { 0 } \\\\\n",
    "{f}&{ 0 } &  { 0 } &  { 0 } &  { 0 } &  { 0 } & { -1 } &  { 0 } &  { 1 } \\\\\n",
    "{g}&{ 0 } &  { 0 } &  { 0 } &  { 0 } &  { 0 } &  { 0 } &  { -1 } & { 1 } \\\\\n",
    "\\end {bmatrix}\""
   ]
  },
  {
   "cell_type": "markdown",
   "metadata": {},
   "source": [
    "##### We define X as $p_{j} {\\leq} X_{ij} {\\leq} q_{ij}$, ( i , j ) are defined as from node i to node j. We can also define (p) and (q) at the same time. In the expanded form, p will always be 0 becuase the flow going into a node must always be positive, and q is always the weight of that particluar line between i and j. This is because that is the minimum flow required by the graph. \n",
    "$0 {\\leq} X_{ab} {\\leq} 3$\n",
    "\n",
    "$0 {\\leq} X_{ac} {\\leq} 2$\n",
    "\n",
    "$0 {\\leq} X_{bd} {\\leq} 1$\n",
    "\n",
    "$0 {\\leq} X_{cd} {\\leq} 4$\n",
    "\n",
    "$0 {\\leq} X_{ce} {\\leq} 2$\n",
    "\n",
    "$0 {\\leq} X_{df} {\\leq} 3$\n",
    "\n",
    "$0 {\\leq} X_{eg} {\\leq} 3$\n",
    "\n",
    "$0 {\\leq} X_{fg} {\\leq} 7$"
   ]
  },
  {
   "cell_type": "markdown",
   "metadata": {},
   "source": [
    "##### Part B:\n",
    "We are asked to formulate the graph as min-cost. This will change out X, p, and q values. It will also give us two new matrices C and b. Before moving forward, it should be stated that Ax = b. And therefore when we multiply our original A matrix by X, we will have made an equivalent matrix to b. The matrix B is the sum of supply and cost for each node."
   ]
  },
  {
   "cell_type": "code",
   "execution_count": 5,
   "metadata": {},
   "outputs": [
    {
     "data": {
      "text/latex": [
       "$b = \\begin{bmatrix}\n",
       "{ b_{a} }\\\\\n",
       "{ b_{b} }\\\\ \n",
       "{ b_{c} }\\\\ \n",
       "{ b_{d} }\\\\ \n",
       "{ b_{e} }\\\\ \n",
       "{ b_{f} }\\\\ \n",
       "{ b_{g} }\\\\ \n",
       "\\end {bmatrix}=\\begin{bmatrix}\n",
       "{ 0 + 5 }\\\\\n",
       "{ -3 + 1}\\\\\n",
       "{ -2 + 6}\\\\\n",
       "{ -5 + 3}\\\\\n",
       "{ -2 + 3}\\\\\n",
       "{ -3 + 2}\\\\\n",
       "{ 5 + 0}\\\\\n",
       "\\end {bmatrix}=\\begin{bmatrix}\n",
       "{ 5 }\\\\\n",
       "{ -2 }\\\\\n",
       "{ 4 }\\\\\n",
       "{ -2 }\\\\\n",
       "{ 1 }\\\\\n",
       "{ 1 }\\\\\n",
       "{ -5 }\\\\\n",
       "\\end {bmatrix}$"
      ],
      "text/plain": [
       "L\"$b = \\begin{bmatrix}\n",
       "{ b_{a} }\\\\\n",
       "{ b_{b} }\\\\ \n",
       "{ b_{c} }\\\\ \n",
       "{ b_{d} }\\\\ \n",
       "{ b_{e} }\\\\ \n",
       "{ b_{f} }\\\\ \n",
       "{ b_{g} }\\\\ \n",
       "\\end {bmatrix}=\\begin{bmatrix}\n",
       "{ 0 + 5 }\\\\\n",
       "{ -3 + 1}\\\\\n",
       "{ -2 + 6}\\\\\n",
       "{ -5 + 3}\\\\\n",
       "{ -2 + 3}\\\\\n",
       "{ -3 + 2}\\\\\n",
       "{ 5 + 0}\\\\\n",
       "\\end {bmatrix}=\\begin{bmatrix}\n",
       "{ 5 }\\\\\n",
       "{ -2 }\\\\\n",
       "{ 4 }\\\\\n",
       "{ -2 }\\\\\n",
       "{ 1 }\\\\\n",
       "{ 1 }\\\\\n",
       "{ -5 }\\\\\n",
       "\\end {bmatrix}$\""
      ]
     },
     "execution_count": 5,
     "metadata": {},
     "output_type": "execute_result"
    }
   ],
   "source": [
    "## We begin by defining our b matrix. This will be the flow coming into and leaving each node. \n",
    "## A negative value represents flow coming into a node\n",
    "## A positive value represents flow leaving a node\n",
    "\n",
    "using LaTeXStrings\n",
    "L\"b = \\begin{bmatrix}\n",
    "{ b_{a} }\\\\\n",
    "{ b_{b} }\\\\ \n",
    "{ b_{c} }\\\\ \n",
    "{ b_{d} }\\\\ \n",
    "{ b_{e} }\\\\ \n",
    "{ b_{f} }\\\\ \n",
    "{ b_{g} }\\\\ \n",
    "\\end {bmatrix}=\\begin{bmatrix}\n",
    "{ 0 + 5 }\\\\\n",
    "{ -3 + 1}\\\\\n",
    "{ -2 + 6}\\\\\n",
    "{ -5 + 3}\\\\\n",
    "{ -2 + 3}\\\\\n",
    "{ -3 + 2}\\\\\n",
    "{ 5 + 0}\\\\\n",
    "\\end {bmatrix}=\\begin{bmatrix}\n",
    "{ 5 }\\\\\n",
    "{ -2 }\\\\\n",
    "{ 4 }\\\\\n",
    "{ -2 }\\\\\n",
    "{ 1 }\\\\\n",
    "{ 1 }\\\\\n",
    "{ -5 }\\\\\n",
    "\\end {bmatrix}\""
   ]
  },
  {
   "cell_type": "code",
   "execution_count": 4,
   "metadata": {},
   "outputs": [
    {
     "data": {
      "text/latex": [
       "$C = \\begin{bmatrix}\n",
       "{ c_{a} }\\\\\n",
       "{ c_{b} }\\\\ \n",
       "{ c_{c} }\\\\ \n",
       "{ c_{d} }\\\\ \n",
       "{ c_{e} }\\\\ \n",
       "{ c_{f} }\\\\ \n",
       "{ c_{g} }\\\\ \n",
       "\\end {bmatrix}\n",
       "=\n",
       "\\begin{bmatrix}\n",
       "{ 3 }\\\\\n",
       "{ 2 }\\\\\n",
       "{ 1 }\\\\\n",
       "{ 4 }\\\\\n",
       "{ 2 }\\\\\n",
       "{ 3 }\\\\\n",
       "{ 3 }\\\\\n",
       "\\end {bmatrix}\n",
       "=\n",
       "X$"
      ],
      "text/plain": [
       "L\"$C = \\begin{bmatrix}\n",
       "{ c_{a} }\\\\\n",
       "{ c_{b} }\\\\ \n",
       "{ c_{c} }\\\\ \n",
       "{ c_{d} }\\\\ \n",
       "{ c_{e} }\\\\ \n",
       "{ c_{f} }\\\\ \n",
       "{ c_{g} }\\\\ \n",
       "\\end {bmatrix}\n",
       "=\n",
       "\\begin{bmatrix}\n",
       "{ 3 }\\\\\n",
       "{ 2 }\\\\\n",
       "{ 1 }\\\\\n",
       "{ 4 }\\\\\n",
       "{ 2 }\\\\\n",
       "{ 3 }\\\\\n",
       "{ 3 }\\\\\n",
       "\\end {bmatrix}\n",
       "=\n",
       "X$\""
      ]
     },
     "execution_count": 4,
     "metadata": {},
     "output_type": "execute_result"
    }
   ],
   "source": [
    "## Next, we need to define our C matrix\n",
    "\n",
    "using LaTeXStrings\n",
    "\n",
    "L\"C = \\begin{bmatrix}\n",
    "{ c_{a} }\\\\\n",
    "{ c_{b} }\\\\ \n",
    "{ c_{c} }\\\\ \n",
    "{ c_{d} }\\\\ \n",
    "{ c_{e} }\\\\ \n",
    "{ c_{f} }\\\\ \n",
    "{ c_{g} }\\\\ \n",
    "\\end {bmatrix}\n",
    "=\n",
    "\\begin{bmatrix}\n",
    "{ 3 }\\\\\n",
    "{ 2 }\\\\\n",
    "{ 1 }\\\\\n",
    "{ 4 }\\\\\n",
    "{ 2 }\\\\\n",
    "{ 3 }\\\\\n",
    "{ 3 }\\\\\n",
    "\\end {bmatrix}\n",
    "=\n",
    "X\""
   ]
  },
  {
   "cell_type": "markdown",
   "metadata": {},
   "source": [
    "##### We define X as our *feasible* flow. That is to say in a min-cost flow problem, a solution is defined by specifying the *flow* $X_{ij}$ in each arc of the graph (i, j). Thus, in our case our C matrix is the same as our X matrix. They are identical in nature. We must also redefine our p and q values from our original problem. P will remain as 0 because the flow from source to sink must be positive, however our Q value becomes  the minimum cut of the network. This will take the form of $0 {\\leq} X_{ij} {\\leq} 5$ \n",
    "\n",
    "We know this to be true due to:\n",
    "$max_{feasible} { \\leq } min_{(A,B)} c(A,B)$ where our Max feasible flow, is less than or equal to our minimum cut."
   ]
  },
  {
   "cell_type": "markdown",
   "metadata": {},
   "source": [
    "##### Part C:\n",
    "\n",
    "We define minimum cut as when traversing this residual network (severing the graph in two) from the source to all reachable nodes, these nodes define one part of the partition. We call this partition A. The rest of the nodes (the unreachable ones) are to be called B. The size of the minimum cut is the sum of the weights of the edges in the original network which flow from a node in A to a node in B.\n",
    "\n",
    "In our problem above if we cut node path $X_{ab}$ and $X_{ac}$, this defines a minimum cut value of 5. Thus the maximum capacity is also 5 for this network.\n",
    "\n",
    "With respect to our capacity and nodal balance constraints. When multipled by our original incidence matrix (A) our nodal balance constraint will become larger than our cost, while our capacity constraint becomes what the linear program looks to maximize. "
   ]
  }
 ],
 "metadata": {
  "kernelspec": {
   "display_name": "Julia 1.0.3",
   "language": "julia",
   "name": "julia-1.0"
  },
  "language_info": {
   "file_extension": ".jl",
   "mimetype": "application/julia",
   "name": "julia",
   "version": "1.0.3"
  }
 },
 "nbformat": 4,
 "nbformat_minor": 2
}
